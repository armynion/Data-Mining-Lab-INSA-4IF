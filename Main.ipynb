{
 "cells": [
  {
   "cell_type": "markdown",
   "metadata": {},
   "source": [
    "# 4IF Data Mining Lab"
   ]
  },
  {
   "cell_type": "markdown",
   "metadata": {},
   "source": [
    "## Project detail\n",
    "The project has been carried out in pairs, during 3 practical sessions lasting 4h each. We have implemented code using Python, which is commonly used for most data mining tasks thanks to many packages: `scikit-learn` (sklearn) providing many learning algorithms and clustering algorithms, as well as `Natural Language Toolkit` (nltk) to tackle text processing tasks. This document is an experimentation report stating our main results, as well as discussions about our different choices."
   ]
  },
  {
   "cell_type": "markdown",
   "metadata": {},
   "source": [
    "<a id=\"dependencies-section\"></a>\n",
    "## Dependencies "
   ]
  },
  {
   "cell_type": "markdown",
   "metadata": {},
   "source": [
    "We recommand usage of a [virtual environment](https://docs.python.org/3/library/venv.html) to run this notebook, since we are using many packages."
   ]
  },
  {
   "cell_type": "code",
   "execution_count": null,
   "metadata": {},
   "outputs": [
    {
     "name": "stdout",
     "output_type": "stream",
     "text": [
      "Requirement already satisfied: numpy==1.26.0 in ./.venv/lib/python3.11/site-packages (1.26.0)\n",
      "Requirement already satisfied: pandas==2.1.1 in ./.venv/lib/python3.11/site-packages (2.1.1)\n",
      "Requirement already satisfied: numpy>=1.23.2 in ./.venv/lib/python3.11/site-packages (from pandas==2.1.1) (1.26.0)\n",
      "Requirement already satisfied: python-dateutil>=2.8.2 in ./.venv/lib/python3.11/site-packages (from pandas==2.1.1) (2.9.0.post0)\n",
      "Requirement already satisfied: pytz>=2020.1 in ./.venv/lib/python3.11/site-packages (from pandas==2.1.1) (2024.2)\n",
      "Requirement already satisfied: tzdata>=2022.1 in ./.venv/lib/python3.11/site-packages (from pandas==2.1.1) (2024.2)\n",
      "Requirement already satisfied: six>=1.5 in ./.venv/lib/python3.11/site-packages (from python-dateutil>=2.8.2->pandas==2.1.1) (1.17.0)\n",
      "Requirement already satisfied: scikit-learn==1.5.1 in ./.venv/lib/python3.11/site-packages (1.5.1)\n",
      "Requirement already satisfied: numpy>=1.19.5 in ./.venv/lib/python3.11/site-packages (from scikit-learn==1.5.1) (1.26.0)\n",
      "Requirement already satisfied: scipy>=1.6.0 in ./.venv/lib/python3.11/site-packages (from scikit-learn==1.5.1) (1.12.0)\n",
      "Requirement already satisfied: joblib>=1.2.0 in ./.venv/lib/python3.11/site-packages (from scikit-learn==1.5.1) (1.4.2)\n",
      "Requirement already satisfied: threadpoolctl>=3.1.0 in ./.venv/lib/python3.11/site-packages (from scikit-learn==1.5.1) (3.5.0)\n",
      "Requirement already satisfied: scipy==1.12.0 in ./.venv/lib/python3.11/site-packages (1.12.0)\n",
      "Requirement already satisfied: numpy<1.29.0,>=1.22.4 in ./.venv/lib/python3.11/site-packages (from scipy==1.12.0) (1.26.0)\n",
      "Requirement already satisfied: plotly==5.24.1 in ./.venv/lib/python3.11/site-packages (5.24.1)\n",
      "Requirement already satisfied: tenacity>=6.2.0 in ./.venv/lib/python3.11/site-packages (from plotly==5.24.1) (8.5.0)\n",
      "Requirement already satisfied: packaging in ./.venv/lib/python3.11/site-packages (from plotly==5.24.1) (24.2)\n",
      "^C\n",
      "Traceback (most recent call last):\n",
      "  File \"/home/armynion/DataMining/Data-Mining-Lab-INSA-4IF/.venv/bin/pip\", line 8, in <module>\n",
      "    sys.exit(main())\n",
      "             ^^^^^^\n",
      "  File \"/home/armynion/DataMining/Data-Mining-Lab-INSA-4IF/.venv/lib/python3.11/site-packages/pip/_internal/cli/main.py\", line 78, in main\n",
      "    command = create_command(cmd_name, isolated=(\"--isolated\" in cmd_args))\n",
      "              ^^^^^^^^^^^^^^^^^^^^^^^^^^^^^^^^^^^^^^^^^^^^^^^^^^^^^^^^^^^^^\n",
      "  File \"/home/armynion/DataMining/Data-Mining-Lab-INSA-4IF/.venv/lib/python3.11/site-packages/pip/_internal/commands/__init__.py\", line 114, in create_command\n",
      "    module = importlib.import_module(module_path)\n",
      "             ^^^^^^^^^^^^^^^^^^^^^^^^^^^^^^^^^^^^\n",
      "  File \"/usr/lib/python3.11/importlib/__init__.py\", line 126, in import_module\n",
      "    return _bootstrap._gcd_import(name[level:], package, level)\n",
      "           ^^^^^^^^^^^^^^^^^^^^^^^^^^^^^^^^^^^^^^^^^^^^^^^^^^^^\n",
      "  File \"<frozen importlib._bootstrap>\", line 1206, in _gcd_import\n",
      "  File \"<frozen importlib._bootstrap>\", line 1178, in _find_and_load\n",
      "  File \"<frozen importlib._bootstrap>\", line 1149, in _find_and_load_unlocked\n",
      "  File \"<frozen importlib._bootstrap>\", line 690, in _load_unlocked\n",
      "  File \"<frozen importlib._bootstrap_external>\", line 940, in exec_module\n",
      "  File \"<frozen importlib._bootstrap>\", line 241, in _call_with_frames_removed\n",
      "  File \"/home/armynion/DataMining/Data-Mining-Lab-INSA-4IF/.venv/lib/python3.11/site-packages/pip/_internal/commands/install.py\", line 16, in <module>\n",
      "    from pip._internal.cli.req_command import (\n",
      "  File \"/home/armynion/DataMining/Data-Mining-Lab-INSA-4IF/.venv/lib/python3.11/site-packages/pip/_internal/cli/req_command.py\", line 18, in <module>\n",
      "    from pip._internal.index.collector import LinkCollector\n",
      "  File \"/home/armynion/DataMining/Data-Mining-Lab-INSA-4IF/.venv/lib/python3.11/site-packages/pip/_internal/index/collector.py\", line 31, in <module>\n",
      "    from pip._vendor import requests\n",
      "  File \"/home/armynion/DataMining/Data-Mining-Lab-INSA-4IF/.venv/lib/python3.11/site-packages/pip/_vendor/requests/__init__.py\", line 45, in <module>\n",
      "    from .exceptions import RequestsDependencyWarning\n",
      "  File \"/home/armynion/DataMining/Data-Mining-Lab-INSA-4IF/.venv/lib/python3.11/site-packages/pip/_vendor/requests/exceptions.py\", line 9, in <module>\n",
      "    from .compat import JSONDecodeError as CompatJSONDecodeError\n",
      "  File \"/home/armynion/DataMining/Data-Mining-Lab-INSA-4IF/.venv/lib/python3.11/site-packages/pip/_vendor/requests/compat.py\", line 46, in <module>\n",
      "    from http import cookiejar as cookielib\n",
      "  File \"<frozen importlib._bootstrap>\", line 1178, in _find_and_load\n",
      "  File \"<frozen importlib._bootstrap>\", line 1149, in _find_and_load_unlocked\n",
      "  File \"<frozen importlib._bootstrap>\", line 690, in _load_unlocked\n",
      "  File \"<frozen importlib._bootstrap_external>\", line 936, in exec_module\n",
      "  File \"<frozen importlib._bootstrap_external>\", line 1069, in get_code\n",
      "  File \"<frozen importlib._bootstrap_external>\", line 729, in _compile_bytecode\n",
      "KeyboardInterrupt\n",
      "Requirement already satisfied: plotly-express==0.4.1 in ./.venv/lib/python3.11/site-packages (0.4.1)\n",
      "Requirement already satisfied: pandas>=0.20.0 in ./.venv/lib/python3.11/site-packages (from plotly-express==0.4.1) (2.1.1)\n",
      "Requirement already satisfied: plotly>=4.1.0 in ./.venv/lib/python3.11/site-packages (from plotly-express==0.4.1) (5.24.1)\n",
      "Requirement already satisfied: statsmodels>=0.9.0 in ./.venv/lib/python3.11/site-packages (from plotly-express==0.4.1) (0.14.4)\n",
      "Requirement already satisfied: scipy>=0.18 in ./.venv/lib/python3.11/site-packages (from plotly-express==0.4.1) (1.12.0)\n",
      "Requirement already satisfied: patsy>=0.5 in ./.venv/lib/python3.11/site-packages (from plotly-express==0.4.1) (1.0.1)\n",
      "Requirement already satisfied: numpy>=1.11 in ./.venv/lib/python3.11/site-packages (from plotly-express==0.4.1) (1.26.0)\n",
      "Requirement already satisfied: python-dateutil>=2.8.2 in ./.venv/lib/python3.11/site-packages (from pandas>=0.20.0->plotly-express==0.4.1) (2.9.0.post0)\n",
      "Requirement already satisfied: pytz>=2020.1 in ./.venv/lib/python3.11/site-packages (from pandas>=0.20.0->plotly-express==0.4.1) (2024.2)\n",
      "Requirement already satisfied: tzdata>=2022.1 in ./.venv/lib/python3.11/site-packages (from pandas>=0.20.0->plotly-express==0.4.1) (2024.2)\n",
      "Requirement already satisfied: tenacity>=6.2.0 in ./.venv/lib/python3.11/site-packages (from plotly>=4.1.0->plotly-express==0.4.1) (8.5.0)\n",
      "Requirement already satisfied: packaging in ./.venv/lib/python3.11/site-packages (from plotly>=4.1.0->plotly-express==0.4.1) (24.2)\n",
      "Requirement already satisfied: six>=1.5 in ./.venv/lib/python3.11/site-packages (from python-dateutil>=2.8.2->pandas>=0.20.0->plotly-express==0.4.1) (1.17.0)\n",
      "Requirement already satisfied: chart-studio==1.1.0 in ./.venv/lib/python3.11/site-packages (1.1.0)\n",
      "Requirement already satisfied: plotly in ./.venv/lib/python3.11/site-packages (from chart-studio==1.1.0) (5.24.1)\n",
      "Requirement already satisfied: requests in ./.venv/lib/python3.11/site-packages (from chart-studio==1.1.0) (2.32.3)\n",
      "Requirement already satisfied: retrying>=1.3.3 in ./.venv/lib/python3.11/site-packages (from chart-studio==1.1.0) (1.3.4)\n",
      "Requirement already satisfied: six in ./.venv/lib/python3.11/site-packages (from chart-studio==1.1.0) (1.17.0)\n",
      "Requirement already satisfied: tenacity>=6.2.0 in ./.venv/lib/python3.11/site-packages (from plotly->chart-studio==1.1.0) (8.5.0)\n",
      "Requirement already satisfied: packaging in ./.venv/lib/python3.11/site-packages (from plotly->chart-studio==1.1.0) (24.2)\n",
      "Requirement already satisfied: charset-normalizer<4,>=2 in ./.venv/lib/python3.11/site-packages (from requests->chart-studio==1.1.0) (3.4.1)\n",
      "Requirement already satisfied: idna<4,>=2.5 in ./.venv/lib/python3.11/site-packages (from requests->chart-studio==1.1.0) (3.10)\n",
      "Requirement already satisfied: urllib3<3,>=1.21.1 in ./.venv/lib/python3.11/site-packages (from requests->chart-studio==1.1.0) (2.3.0)\n",
      "Requirement already satisfied: certifi>=2017.4.17 in ./.venv/lib/python3.11/site-packages (from requests->chart-studio==1.1.0) (2024.12.14)\n",
      "Requirement already satisfied: streamlit==1.37.1 in ./.venv/lib/python3.11/site-packages (1.37.1)\n",
      "Requirement already satisfied: altair<6,>=4.0 in ./.venv/lib/python3.11/site-packages (from streamlit==1.37.1) (5.5.0)\n",
      "Requirement already satisfied: blinker<2,>=1.0.0 in ./.venv/lib/python3.11/site-packages (from streamlit==1.37.1) (1.9.0)\n",
      "Requirement already satisfied: cachetools<6,>=4.0 in ./.venv/lib/python3.11/site-packages (from streamlit==1.37.1) (5.5.0)\n",
      "Requirement already satisfied: click<9,>=7.0 in ./.venv/lib/python3.11/site-packages (from streamlit==1.37.1) (8.1.8)\n",
      "Requirement already satisfied: numpy<3,>=1.20 in ./.venv/lib/python3.11/site-packages (from streamlit==1.37.1) (1.26.0)\n",
      "Requirement already satisfied: packaging<25,>=20 in ./.venv/lib/python3.11/site-packages (from streamlit==1.37.1) (24.2)\n",
      "Requirement already satisfied: pandas<3,>=1.3.0 in ./.venv/lib/python3.11/site-packages (from streamlit==1.37.1) (2.1.1)\n",
      "Requirement already satisfied: pillow<11,>=7.1.0 in ./.venv/lib/python3.11/site-packages (from streamlit==1.37.1) (10.4.0)\n",
      "Requirement already satisfied: protobuf<6,>=3.20 in ./.venv/lib/python3.11/site-packages (from streamlit==1.37.1) (5.29.3)\n",
      "Requirement already satisfied: pyarrow>=7.0 in ./.venv/lib/python3.11/site-packages (from streamlit==1.37.1) (19.0.0)\n",
      "Requirement already satisfied: requests<3,>=2.27 in ./.venv/lib/python3.11/site-packages (from streamlit==1.37.1) (2.32.3)\n",
      "Requirement already satisfied: rich<14,>=10.14.0 in ./.venv/lib/python3.11/site-packages (from streamlit==1.37.1) (13.9.4)\n",
      "Requirement already satisfied: tenacity<9,>=8.1.0 in ./.venv/lib/python3.11/site-packages (from streamlit==1.37.1) (8.5.0)\n",
      "Requirement already satisfied: toml<2,>=0.10.1 in ./.venv/lib/python3.11/site-packages (from streamlit==1.37.1) (0.10.2)\n",
      "Requirement already satisfied: typing-extensions<5,>=4.3.0 in ./.venv/lib/python3.11/site-packages (from streamlit==1.37.1) (4.12.2)\n",
      "Requirement already satisfied: gitpython!=3.1.19,<4,>=3.0.7 in ./.venv/lib/python3.11/site-packages (from streamlit==1.37.1) (3.1.44)\n",
      "Requirement already satisfied: pydeck<1,>=0.8.0b4 in ./.venv/lib/python3.11/site-packages (from streamlit==1.37.1) (0.9.1)\n",
      "Requirement already satisfied: tornado<7,>=6.0.3 in ./.venv/lib/python3.11/site-packages (from streamlit==1.37.1) (6.4.2)\n",
      "Requirement already satisfied: watchdog<5,>=2.1.5 in ./.venv/lib/python3.11/site-packages (from streamlit==1.37.1) (4.0.2)\n",
      "Requirement already satisfied: jinja2 in ./.venv/lib/python3.11/site-packages (from altair<6,>=4.0->streamlit==1.37.1) (3.1.5)\n",
      "Requirement already satisfied: jsonschema>=3.0 in ./.venv/lib/python3.11/site-packages (from altair<6,>=4.0->streamlit==1.37.1) (4.23.0)\n",
      "Requirement already satisfied: narwhals>=1.14.2 in ./.venv/lib/python3.11/site-packages (from altair<6,>=4.0->streamlit==1.37.1) (1.22.0)\n",
      "Requirement already satisfied: gitdb<5,>=4.0.1 in ./.venv/lib/python3.11/site-packages (from gitpython!=3.1.19,<4,>=3.0.7->streamlit==1.37.1) (4.0.12)\n",
      "Requirement already satisfied: python-dateutil>=2.8.2 in ./.venv/lib/python3.11/site-packages (from pandas<3,>=1.3.0->streamlit==1.37.1) (2.9.0.post0)\n",
      "Requirement already satisfied: pytz>=2020.1 in ./.venv/lib/python3.11/site-packages (from pandas<3,>=1.3.0->streamlit==1.37.1) (2024.2)\n",
      "Requirement already satisfied: tzdata>=2022.1 in ./.venv/lib/python3.11/site-packages (from pandas<3,>=1.3.0->streamlit==1.37.1) (2024.2)\n",
      "Requirement already satisfied: charset-normalizer<4,>=2 in ./.venv/lib/python3.11/site-packages (from requests<3,>=2.27->streamlit==1.37.1) (3.4.1)\n",
      "Requirement already satisfied: idna<4,>=2.5 in ./.venv/lib/python3.11/site-packages (from requests<3,>=2.27->streamlit==1.37.1) (3.10)\n",
      "Requirement already satisfied: urllib3<3,>=1.21.1 in ./.venv/lib/python3.11/site-packages (from requests<3,>=2.27->streamlit==1.37.1) (2.3.0)\n",
      "Requirement already satisfied: certifi>=2017.4.17 in ./.venv/lib/python3.11/site-packages (from requests<3,>=2.27->streamlit==1.37.1) (2024.12.14)\n",
      "Requirement already satisfied: markdown-it-py>=2.2.0 in ./.venv/lib/python3.11/site-packages (from rich<14,>=10.14.0->streamlit==1.37.1) (3.0.0)\n",
      "Requirement already satisfied: pygments<3.0.0,>=2.13.0 in ./.venv/lib/python3.11/site-packages (from rich<14,>=10.14.0->streamlit==1.37.1) (2.19.1)\n",
      "Requirement already satisfied: smmap<6,>=3.0.1 in ./.venv/lib/python3.11/site-packages (from gitdb<5,>=4.0.1->gitpython!=3.1.19,<4,>=3.0.7->streamlit==1.37.1) (5.0.2)\n",
      "Requirement already satisfied: MarkupSafe>=2.0 in ./.venv/lib/python3.11/site-packages (from jinja2->altair<6,>=4.0->streamlit==1.37.1) (3.0.2)\n",
      "Requirement already satisfied: attrs>=22.2.0 in ./.venv/lib/python3.11/site-packages (from jsonschema>=3.0->altair<6,>=4.0->streamlit==1.37.1) (24.3.0)\n",
      "Requirement already satisfied: jsonschema-specifications>=2023.03.6 in ./.venv/lib/python3.11/site-packages (from jsonschema>=3.0->altair<6,>=4.0->streamlit==1.37.1) (2024.10.1)\n",
      "Requirement already satisfied: referencing>=0.28.4 in ./.venv/lib/python3.11/site-packages (from jsonschema>=3.0->altair<6,>=4.0->streamlit==1.37.1) (0.36.1)\n",
      "Requirement already satisfied: rpds-py>=0.7.1 in ./.venv/lib/python3.11/site-packages (from jsonschema>=3.0->altair<6,>=4.0->streamlit==1.37.1) (0.22.3)\n",
      "Requirement already satisfied: mdurl~=0.1 in ./.venv/lib/python3.11/site-packages (from markdown-it-py>=2.2.0->rich<14,>=10.14.0->streamlit==1.37.1) (0.1.2)\n",
      "Requirement already satisfied: six>=1.5 in ./.venv/lib/python3.11/site-packages (from python-dateutil>=2.8.2->pandas<3,>=1.3.0->streamlit==1.37.1) (1.17.0)\n"
     ]
    }
   ],
   "source": [
    "# installation of required libraries and dependencies\n",
    "# numeric calculations\n",
    "! pip install numpy==1.26.0 \n",
    "# data frames \n",
    "! pip3 install pandas==2.1.1 \n",
    "# machine learning algorithms \n",
    "! pip install scikit-learn==1.5.1 \n",
    "! pip install scipy==1.12.0\n",
    "\n",
    "# plotting \n",
    "! pip install plotly==5.24.1 \n",
    "! pip install matplotlib==3.8.0 \n",
    "! pip install plotly-express==0.4.1 \n",
    "! pip install chart-studio==1.1.0 \n",
    "# web app library \n",
    "! pip install streamlit==1.37.1 \n",
    "#maping library\n",
    "! pip install folium\n",
    "# association rules\n",
    "! pip install mlxtend==0.23.3\n",
    "\n",
    "! pip install nbformat==5.9.2 "
   ]
  },
  {
   "cell_type": "code",
   "execution_count": 63,
   "metadata": {},
   "outputs": [],
   "source": [
    "# load pandas to deal with the data\n",
    "import pandas as pd\n",
    "# plotting\n",
    "import matplotlib.pyplot as plt\n",
    "\n",
    "# mapping\n",
    "import folium\n",
    "import numpy as np"
   ]
  },
  {
   "cell_type": "code",
   "execution_count": 48,
   "metadata": {},
   "outputs": [
    {
     "name": "stderr",
     "output_type": "stream",
     "text": [
      "/tmp/ipykernel_38929/3210405139.py:2: DtypeWarning: Columns (11,12) have mixed types. Specify dtype option on import or set low_memory=False.\n",
      "  data = pd.read_csv(\"flickr_data2.csv\", sep=\",\")\n"
     ]
    },
    {
     "data": {
      "text/html": [
       "<div>\n",
       "<style scoped>\n",
       "    .dataframe tbody tr th:only-of-type {\n",
       "        vertical-align: middle;\n",
       "    }\n",
       "\n",
       "    .dataframe tbody tr th {\n",
       "        vertical-align: top;\n",
       "    }\n",
       "\n",
       "    .dataframe thead th {\n",
       "        text-align: right;\n",
       "    }\n",
       "</style>\n",
       "<table border=\"1\" class=\"dataframe\">\n",
       "  <thead>\n",
       "    <tr style=\"text-align: right;\">\n",
       "      <th></th>\n",
       "      <th>id</th>\n",
       "      <th>user</th>\n",
       "      <th>lat</th>\n",
       "      <th>long</th>\n",
       "      <th>tags</th>\n",
       "      <th>title</th>\n",
       "      <th>date_taken_minute</th>\n",
       "      <th>date_taken_hour</th>\n",
       "      <th>date_taken_day</th>\n",
       "      <th>date_taken_month</th>\n",
       "      <th>date_taken_year</th>\n",
       "      <th>date_upload_minute</th>\n",
       "      <th>date_upload_hour</th>\n",
       "      <th>date_upload_day</th>\n",
       "      <th>date_upload_month</th>\n",
       "      <th>date_upload_year</th>\n",
       "      <th>Unnamed: 16</th>\n",
       "      <th>Unnamed: 17</th>\n",
       "      <th>Unnamed: 18</th>\n",
       "    </tr>\n",
       "  </thead>\n",
       "  <tbody>\n",
       "    <tr>\n",
       "      <th>0</th>\n",
       "      <td>4395181099</td>\n",
       "      <td>30624617@N03</td>\n",
       "      <td>45.754858</td>\n",
       "      <td>4.821710</td>\n",
       "      <td>chair,lyon,rhône,chaise,rhônealpes</td>\n",
       "      <td>Chaises avec vue</td>\n",
       "      <td>11.0</td>\n",
       "      <td>15</td>\n",
       "      <td>28</td>\n",
       "      <td>2</td>\n",
       "      <td>2010</td>\n",
       "      <td>23</td>\n",
       "      <td>20</td>\n",
       "      <td>28.0</td>\n",
       "      <td>2</td>\n",
       "      <td>2010.0</td>\n",
       "      <td>NaN</td>\n",
       "      <td>NaN</td>\n",
       "      <td>NaN</td>\n",
       "    </tr>\n",
       "    <tr>\n",
       "      <th>1</th>\n",
       "      <td>4394748717</td>\n",
       "      <td>35853470@N00</td>\n",
       "      <td>45.753270</td>\n",
       "      <td>4.862953</td>\n",
       "      <td>NaN</td>\n",
       "      <td>NaN</td>\n",
       "      <td>51.0</td>\n",
       "      <td>17</td>\n",
       "      <td>28</td>\n",
       "      <td>2</td>\n",
       "      <td>2010</td>\n",
       "      <td>52</td>\n",
       "      <td>17</td>\n",
       "      <td>28.0</td>\n",
       "      <td>2</td>\n",
       "      <td>2010.0</td>\n",
       "      <td>NaN</td>\n",
       "      <td>NaN</td>\n",
       "      <td>NaN</td>\n",
       "    </tr>\n",
       "    <tr>\n",
       "      <th>2</th>\n",
       "      <td>4394694699</td>\n",
       "      <td>11817998@N05</td>\n",
       "      <td>45.760655</td>\n",
       "      <td>4.846564</td>\n",
       "      <td>365,iphone</td>\n",
       "      <td>59/365 - R46 V103 B163</td>\n",
       "      <td>29.0</td>\n",
       "      <td>17</td>\n",
       "      <td>28</td>\n",
       "      <td>2</td>\n",
       "      <td>2010</td>\n",
       "      <td>33</td>\n",
       "      <td>17</td>\n",
       "      <td>28.0</td>\n",
       "      <td>2</td>\n",
       "      <td>2010.0</td>\n",
       "      <td>NaN</td>\n",
       "      <td>NaN</td>\n",
       "      <td>NaN</td>\n",
       "    </tr>\n",
       "    <tr>\n",
       "      <th>3</th>\n",
       "      <td>4394803790</td>\n",
       "      <td>11545749@N06</td>\n",
       "      <td>45.784000</td>\n",
       "      <td>4.874072</td>\n",
       "      <td>nin,nineinchnails,gift,screening,toiou,avott</td>\n",
       "      <td>2010-01-29 Toiou Avott Lyon</td>\n",
       "      <td>15.0</td>\n",
       "      <td>20</td>\n",
       "      <td>28</td>\n",
       "      <td>1</td>\n",
       "      <td>2010</td>\n",
       "      <td>38</td>\n",
       "      <td>12</td>\n",
       "      <td>28.0</td>\n",
       "      <td>2</td>\n",
       "      <td>2010.0</td>\n",
       "      <td>NaN</td>\n",
       "      <td>NaN</td>\n",
       "      <td>NaN</td>\n",
       "    </tr>\n",
       "    <tr>\n",
       "      <th>4</th>\n",
       "      <td>4394803554</td>\n",
       "      <td>11545749@N06</td>\n",
       "      <td>45.784000</td>\n",
       "      <td>4.874072</td>\n",
       "      <td>lyon,nin,nineinchnails,gift,screening,toiou,avott</td>\n",
       "      <td>2010-01-28 Toiou Avott Lyon</td>\n",
       "      <td>10.0</td>\n",
       "      <td>20</td>\n",
       "      <td>28</td>\n",
       "      <td>1</td>\n",
       "      <td>2010</td>\n",
       "      <td>38</td>\n",
       "      <td>12</td>\n",
       "      <td>28.0</td>\n",
       "      <td>2</td>\n",
       "      <td>2010.0</td>\n",
       "      <td>NaN</td>\n",
       "      <td>NaN</td>\n",
       "      <td>NaN</td>\n",
       "    </tr>\n",
       "  </tbody>\n",
       "</table>\n",
       "</div>"
      ],
      "text/plain": [
       "           id          user        lat      long  \\\n",
       "0  4395181099  30624617@N03  45.754858  4.821710   \n",
       "1  4394748717  35853470@N00  45.753270  4.862953   \n",
       "2  4394694699  11817998@N05  45.760655  4.846564   \n",
       "3  4394803790  11545749@N06  45.784000  4.874072   \n",
       "4  4394803554  11545749@N06  45.784000  4.874072   \n",
       "\n",
       "                                                tags  \\\n",
       "0                 chair,lyon,rhône,chaise,rhônealpes   \n",
       "1                                                NaN   \n",
       "2                                         365,iphone   \n",
       "3       nin,nineinchnails,gift,screening,toiou,avott   \n",
       "4  lyon,nin,nineinchnails,gift,screening,toiou,avott   \n",
       "\n",
       "                         title   date_taken_minute   date_taken_hour  \\\n",
       "0             Chaises avec vue                11.0                15   \n",
       "1                          NaN                51.0                17   \n",
       "2       59/365 - R46 V103 B163                29.0                17   \n",
       "3  2010-01-29 Toiou Avott Lyon                15.0                20   \n",
       "4  2010-01-28 Toiou Avott Lyon                10.0                20   \n",
       "\n",
       "    date_taken_day   date_taken_month   date_taken_year  date_upload_minute  \\\n",
       "0               28                  2              2010                  23   \n",
       "1               28                  2              2010                  52   \n",
       "2               28                  2              2010                  33   \n",
       "3               28                  1              2010                  38   \n",
       "4               28                  1              2010                  38   \n",
       "\n",
       "   date_upload_hour   date_upload_day   date_upload_month   date_upload_year  \\\n",
       "0                20              28.0                   2             2010.0   \n",
       "1                17              28.0                   2             2010.0   \n",
       "2                17              28.0                   2             2010.0   \n",
       "3                12              28.0                   2             2010.0   \n",
       "4                12              28.0                   2             2010.0   \n",
       "\n",
       "   Unnamed: 16  Unnamed: 17  Unnamed: 18  \n",
       "0          NaN          NaN          NaN  \n",
       "1          NaN          NaN          NaN  \n",
       "2          NaN          NaN          NaN  \n",
       "3          NaN          NaN          NaN  \n",
       "4          NaN          NaN          NaN  "
      ]
     },
     "execution_count": 48,
     "metadata": {},
     "output_type": "execute_result"
    }
   ],
   "source": [
    "# opening data from the social network \"flickr\"\n",
    "data = pd.read_csv(\"flickr_data2.csv\", sep=\",\")\n",
    "data.head()"
   ]
  },
  {
   "cell_type": "markdown",
   "metadata": {},
   "source": [
    "<a id=\"data-cleaning-section\"></a>\n",
    "## Data Cleaning "
   ]
  },
  {
   "cell_type": "markdown",
   "metadata": {},
   "source": [
    "### Incoherent Data"
   ]
  },
  {
   "cell_type": "code",
   "execution_count": 49,
   "metadata": {},
   "outputs": [
    {
     "name": "stdout",
     "output_type": "stream",
     "text": [
      "<class 'pandas.core.frame.DataFrame'>\n",
      "RangeIndex: 420240 entries, 0 to 420239\n",
      "Data columns (total 19 columns):\n",
      " #   Column               Non-Null Count   Dtype  \n",
      "---  ------               --------------   -----  \n",
      " 0   id                   420240 non-null  int64  \n",
      " 1    user                420240 non-null  object \n",
      " 2    lat                 420240 non-null  float64\n",
      " 3    long                420240 non-null  float64\n",
      " 4    tags                316730 non-null  object \n",
      " 5    title               381911 non-null  object \n",
      " 6    date_taken_minute   420239 non-null  float64\n",
      " 7    date_taken_hour     420240 non-null  int64  \n",
      " 8    date_taken_day      420240 non-null  int64  \n",
      " 9    date_taken_month    420240 non-null  int64  \n",
      " 10   date_taken_year     420240 non-null  int64  \n",
      " 11   date_upload_minute  420228 non-null  object \n",
      " 12   date_upload_hour    420238 non-null  object \n",
      " 13   date_upload_day     420238 non-null  float64\n",
      " 14   date_upload_month   420240 non-null  int64  \n",
      " 15   date_upload_year    420239 non-null  float64\n",
      " 16  Unnamed: 16          142 non-null     float64\n",
      " 17  Unnamed: 17          0 non-null       float64\n",
      " 18  Unnamed: 18          2 non-null       float64\n",
      "dtypes: float64(8), int64(6), object(5)\n",
      "memory usage: 60.9+ MB\n"
     ]
    }
   ],
   "source": [
    "data.info()"
   ]
  },
  {
   "cell_type": "markdown",
   "metadata": {},
   "source": [
    "We can see that a few columns aren't intersting, because there is no title and most of the rows have a `null` value for this attribute. We can suppose that these unwanted columns have apappeared due to poor formatting and conflicts with the `.csv` format. "
   ]
  },
  {
   "cell_type": "code",
   "execution_count": 50,
   "metadata": {},
   "outputs": [
    {
     "name": "stdout",
     "output_type": "stream",
     "text": [
      "Percentages of rows with values in unwanted columns: 0.034%\n"
     ]
    }
   ],
   "source": [
    "# all unwanted columns \n",
    "unnamed_columns = data.columns[data.columns.str.contains('^Unnamed')]\n",
    "\n",
    "number_of_wrong_records = data[unnamed_columns].count().sum()\n",
    "total_number_of_records = data[\"id\"].count()\n",
    "\n",
    "print(f\"Percentages of rows with values in unwanted columns: {number_of_wrong_records*100/total_number_of_records:.3f}%\")"
   ]
  },
  {
   "cell_type": "markdown",
   "metadata": {},
   "source": [
    "As the number of rows impacted by this error is very limited, we consider that removing these rows will be more efficient than trying to correct them."
   ]
  },
  {
   "cell_type": "code",
   "execution_count": 51,
   "metadata": {},
   "outputs": [
    {
     "name": "stdout",
     "output_type": "stream",
     "text": [
      "<class 'pandas.core.frame.DataFrame'>\n",
      "Index: 420098 entries, 0 to 420239\n",
      "Data columns (total 19 columns):\n",
      " #   Column               Non-Null Count   Dtype  \n",
      "---  ------               --------------   -----  \n",
      " 0   id                   420098 non-null  int64  \n",
      " 1    user                420098 non-null  object \n",
      " 2    lat                 420098 non-null  float64\n",
      " 3    long                420098 non-null  float64\n",
      " 4    tags                316635 non-null  object \n",
      " 5    title               381777 non-null  object \n",
      " 6    date_taken_minute   420098 non-null  float64\n",
      " 7    date_taken_hour     420098 non-null  int64  \n",
      " 8    date_taken_day      420098 non-null  int64  \n",
      " 9    date_taken_month    420098 non-null  int64  \n",
      " 10   date_taken_year     420098 non-null  int64  \n",
      " 11   date_upload_minute  420098 non-null  object \n",
      " 12   date_upload_hour    420098 non-null  object \n",
      " 13   date_upload_day     420098 non-null  float64\n",
      " 14   date_upload_month   420098 non-null  int64  \n",
      " 15   date_upload_year    420097 non-null  float64\n",
      " 16  Unnamed: 16          0 non-null       float64\n",
      " 17  Unnamed: 17          0 non-null       float64\n",
      " 18  Unnamed: 18          0 non-null       float64\n",
      "dtypes: float64(8), int64(6), object(5)\n",
      "memory usage: 64.1+ MB\n"
     ]
    }
   ],
   "source": [
    "data = data.loc[~data[\"Unnamed: 16\"].notna(),:]\n",
    "data = data.loc[~data[\"Unnamed: 17\"].notna(),:]\n",
    "data = data.loc[~data[\"Unnamed: 18\"].notna(),:]\n",
    "data.info()\n"
   ]
  },
  {
   "cell_type": "markdown",
   "metadata": {},
   "source": [
    "Then we can remove corresponding columns."
   ]
  },
  {
   "cell_type": "code",
   "execution_count": 52,
   "metadata": {},
   "outputs": [
    {
     "data": {
      "text/plain": [
       "Index(['id', ' user', ' lat', ' long', ' tags', ' title', ' date_taken_minute',\n",
       "       ' date_taken_hour', ' date_taken_day', ' date_taken_month',\n",
       "       ' date_taken_year', ' date_upload_minute', ' date_upload_hour',\n",
       "       ' date_upload_day', ' date_upload_month', ' date_upload_year'],\n",
       "      dtype='object')"
      ]
     },
     "execution_count": 52,
     "metadata": {},
     "output_type": "execute_result"
    }
   ],
   "source": [
    "data=data.drop(columns=unnamed_columns)\n",
    "data.columns"
   ]
  },
  {
   "cell_type": "markdown",
   "metadata": {},
   "source": [
    "We also can see a problem with the name of atributes. Except for the `\"id\"`, each column name begins with a spacebar character (ex: `\" user\"`), which isn't convenient for the following steps. We can easily get rid of it:"
   ]
  },
  {
   "cell_type": "code",
   "execution_count": 53,
   "metadata": {},
   "outputs": [
    {
     "data": {
      "text/plain": [
       "Index(['id', 'user', 'lat', 'long', 'tags', 'title', 'date_taken_minute',\n",
       "       'date_taken_hour', 'date_taken_day', 'date_taken_month',\n",
       "       'date_taken_year', 'date_upload_minute', 'date_upload_hour',\n",
       "       'date_upload_day', 'date_upload_month', 'date_upload_year'],\n",
       "      dtype='object')"
      ]
     },
     "execution_count": 53,
     "metadata": {},
     "output_type": "execute_result"
    }
   ],
   "source": [
    "data=data.rename(columns=lambda x: x.strip())\n",
    "data.columns"
   ]
  },
  {
   "cell_type": "markdown",
   "metadata": {},
   "source": [
    "<a id=\"missing-vals\"></a>\n",
    "### Missing Values"
   ]
  },
  {
   "attachments": {},
   "cell_type": "markdown",
   "metadata": {},
   "source": [
    "We can see that a few records don't have value for `\"tags\"` and/or `\"title\"`. It is not a problem while we are not considering [NLP](https://en.wikipedia.org/wiki/Natural_language_processing). We still need to keep that in mind for later treatments. Besides we can note another `\"null\"` value for one record on the attribute: `\"date_upload_year\"`. "
   ]
  },
  {
   "cell_type": "code",
   "execution_count": 54,
   "metadata": {},
   "outputs": [
    {
     "data": {
      "text/html": [
       "<div>\n",
       "<style scoped>\n",
       "    .dataframe tbody tr th:only-of-type {\n",
       "        vertical-align: middle;\n",
       "    }\n",
       "\n",
       "    .dataframe tbody tr th {\n",
       "        vertical-align: top;\n",
       "    }\n",
       "\n",
       "    .dataframe thead th {\n",
       "        text-align: right;\n",
       "    }\n",
       "</style>\n",
       "<table border=\"1\" class=\"dataframe\">\n",
       "  <thead>\n",
       "    <tr style=\"text-align: right;\">\n",
       "      <th></th>\n",
       "      <th>id</th>\n",
       "      <th>user</th>\n",
       "      <th>lat</th>\n",
       "      <th>long</th>\n",
       "      <th>tags</th>\n",
       "      <th>title</th>\n",
       "      <th>date_taken_minute</th>\n",
       "      <th>date_taken_hour</th>\n",
       "      <th>date_taken_day</th>\n",
       "      <th>date_taken_month</th>\n",
       "      <th>date_taken_year</th>\n",
       "      <th>date_upload_minute</th>\n",
       "      <th>date_upload_hour</th>\n",
       "      <th>date_upload_day</th>\n",
       "      <th>date_upload_month</th>\n",
       "      <th>date_upload_year</th>\n",
       "    </tr>\n",
       "  </thead>\n",
       "  <tbody>\n",
       "    <tr>\n",
       "      <th>42366</th>\n",
       "      <td>5464485473</td>\n",
       "      <td>35635047@N03</td>\n",
       "      <td>45.765517</td>\n",
       "      <td>4.76651</td>\n",
       "      <td>lundimatin,lyondefi38nuit</td>\n",
       "      <td>une lundi matin comme tout les autre ;-(25</td>\n",
       "      <td>6.0</td>\n",
       "      <td>21</td>\n",
       "      <td>2</td>\n",
       "      <td>2011</td>\n",
       "      <td>11</td>\n",
       "      <td>15</td>\n",
       "      <td>21</td>\n",
       "      <td>2.0</td>\n",
       "      <td>2011</td>\n",
       "      <td>NaN</td>\n",
       "    </tr>\n",
       "  </tbody>\n",
       "</table>\n",
       "</div>"
      ],
      "text/plain": [
       "               id          user        lat     long  \\\n",
       "42366  5464485473  35635047@N03  45.765517  4.76651   \n",
       "\n",
       "                            tags                                       title  \\\n",
       "42366  lundimatin,lyondefi38nuit  une lundi matin comme tout les autre ;-(25   \n",
       "\n",
       "       date_taken_minute  date_taken_hour  date_taken_day  date_taken_month  \\\n",
       "42366                6.0               21               2              2011   \n",
       "\n",
       "       date_taken_year date_upload_minute date_upload_hour  date_upload_day  \\\n",
       "42366               11                 15               21              2.0   \n",
       "\n",
       "       date_upload_month  date_upload_year  \n",
       "42366               2011               NaN  "
      ]
     },
     "execution_count": 54,
     "metadata": {},
     "output_type": "execute_result"
    }
   ],
   "source": [
    "data[data[\"date_upload_year\"].isnull()]"
   ]
  },
  {
   "cell_type": "code",
   "execution_count": 55,
   "metadata": {},
   "outputs": [
    {
     "name": "stdout",
     "output_type": "stream",
     "text": [
      "<class 'pandas.core.frame.DataFrame'>\n",
      "Index: 420097 entries, 0 to 420239\n",
      "Data columns (total 16 columns):\n",
      " #   Column              Non-Null Count   Dtype  \n",
      "---  ------              --------------   -----  \n",
      " 0   id                  420097 non-null  int64  \n",
      " 1   user                420097 non-null  object \n",
      " 2   lat                 420097 non-null  float64\n",
      " 3   long                420097 non-null  float64\n",
      " 4   tags                316634 non-null  object \n",
      " 5   title               381776 non-null  object \n",
      " 6   date_taken_minute   420097 non-null  float64\n",
      " 7   date_taken_hour     420097 non-null  int64  \n",
      " 8   date_taken_day      420097 non-null  int64  \n",
      " 9   date_taken_month    420097 non-null  int64  \n",
      " 10  date_taken_year     420097 non-null  int64  \n",
      " 11  date_upload_minute  420097 non-null  object \n",
      " 12  date_upload_hour    420097 non-null  object \n",
      " 13  date_upload_day     420097 non-null  float64\n",
      " 14  date_upload_month   420097 non-null  int64  \n",
      " 15  date_upload_year    420097 non-null  float64\n",
      "dtypes: float64(5), int64(6), object(5)\n",
      "memory usage: 54.5+ MB\n"
     ]
    }
   ],
   "source": [
    "data = data.loc[~data[\"date_upload_year\"].isnull(),:]\n",
    "data.info()"
   ]
  },
  {
   "cell_type": "markdown",
   "metadata": {},
   "source": [
    "<a id=\"duplicates\"></a>\n",
    "### Duplicates"
   ]
  },
  {
   "cell_type": "markdown",
   "metadata": {},
   "source": [
    "Most of the records are duplicated, because a user can upload many pictures of the same place in a short amount of time (example below). But we only need one occurrence of metadata for a given position at a specific moment. Hence we use the [`duplicated()`](https://pandas.pydata.org/docs/reference/api/pandas.DataFrame.duplicated.html) method."
   ]
  },
  {
   "cell_type": "code",
   "execution_count": 56,
   "metadata": {},
   "outputs": [],
   "source": [
    "# only checking the duplicates for the selected attributes\n",
    "columns_for_duplicates=['user', 'lat', 'long','date_taken_hour',\n",
    "                        'date_taken_day', 'date_taken_month',\n",
    "                        'date_taken_year', 'date_upload_minute',\n",
    "                        'date_upload_hour', 'date_upload_day',\n",
    "                        'date_upload_month', 'date_upload_year']\n",
    "data=data.drop_duplicates(subset=columns_for_duplicates)"
   ]
  },
  {
   "cell_type": "code",
   "execution_count": 57,
   "metadata": {},
   "outputs": [
    {
     "name": "stdout",
     "output_type": "stream",
     "text": [
      "<class 'pandas.core.frame.DataFrame'>\n",
      "Index: 125445 entries, 0 to 420239\n",
      "Data columns (total 16 columns):\n",
      " #   Column              Non-Null Count   Dtype  \n",
      "---  ------              --------------   -----  \n",
      " 0   id                  125445 non-null  int64  \n",
      " 1   user                125445 non-null  object \n",
      " 2   lat                 125445 non-null  float64\n",
      " 3   long                125445 non-null  float64\n",
      " 4   tags                91436 non-null   object \n",
      " 5   title               112193 non-null  object \n",
      " 6   date_taken_minute   125445 non-null  float64\n",
      " 7   date_taken_hour     125445 non-null  int64  \n",
      " 8   date_taken_day      125445 non-null  int64  \n",
      " 9   date_taken_month    125445 non-null  int64  \n",
      " 10  date_taken_year     125445 non-null  int64  \n",
      " 11  date_upload_minute  125445 non-null  object \n",
      " 12  date_upload_hour    125445 non-null  object \n",
      " 13  date_upload_day     125445 non-null  float64\n",
      " 14  date_upload_month   125445 non-null  int64  \n",
      " 15  date_upload_year    125445 non-null  float64\n",
      "dtypes: float64(5), int64(6), object(5)\n",
      "memory usage: 16.3+ MB\n"
     ]
    }
   ],
   "source": [
    "data.info()"
   ]
  },
  {
   "cell_type": "markdown",
   "metadata": {},
   "source": [
    "We can now realise that a lot of data wasn't usefull for any relevant analyse. Most of the cleaning work is now done so cleaned data can be saved in a new dataframe."
   ]
  },
  {
   "cell_type": "code",
   "execution_count": 58,
   "metadata": {},
   "outputs": [
    {
     "name": "stdout",
     "output_type": "stream",
     "text": [
      "Percentages of records kept after cleaning: 29.851%\n"
     ]
    }
   ],
   "source": [
    "number_of_records_after_cleaning = data[\"id\"].count()\n",
    "records_kept_percentage = number_of_records_after_cleaning*100/total_number_of_records\n",
    "print(f\"Percentages of records kept after cleaning: {records_kept_percentage:.3f}%\")"
   ]
  },
  {
   "cell_type": "code",
   "execution_count": 59,
   "metadata": {},
   "outputs": [],
   "source": [
    "# save to file\n",
    "data.to_csv('./data_cleaned.csv',index=False)\n",
    "data_cleaned = pd.read_csv(\"data_cleaned.csv\", sep=\",\")\n"
   ]
  },
  {
   "cell_type": "code",
   "execution_count": null,
   "metadata": {},
   "outputs": [],
   "source": [
    "m = folium.Map([45.762611,4.832805\t], zoom_start=12)\n",
    "\n",
    "data_sample = data_cleaned.sample(1000)\n",
    "\n",
    "for index, row in data_sample.iterrows():\n",
    "    folium.Marker(\n",
    "        location=[row[\"lat\"],row[\"long\"]],\n",
    "        icon=folium.DivIcon(html=f\"\"\"<svg width=\"20px\" height=\"20px\" viewBox=\"0 0 24 24\" fill=\"none\" xmlns=\"http://www.w3.org/2000/svg\">\n",
    "        <path d=\"M12 9.5C13.3807 9.5 14.5 10.6193 14.5 12C14.5 13.3807 13.3807 14.5 12 14.5C10.6193 14.5 9.5 13.3807 9.5 12C9.5 10.6193 10.6193 9.5 12 9.5Z\" fill=\"#8b0000\"/>\n",
    "        </svg>\"\"\")\n",
    "    ).add_to(m)\n",
    "\n",
    "m"
   ]
  },
  {
   "cell_type": "markdown",
   "metadata": {},
   "source": [
    "To obtain the statistical summary of the dataframe, we can use [`describe()`](https://pandas.pydata.org/docs/reference/api/pandas.DataFrame.describe.html). Some of the values aren't relevant, but we can focus on certain metrics to explore the dataset."
   ]
  },
  {
   "cell_type": "code",
   "execution_count": 61,
   "metadata": {},
   "outputs": [
    {
     "data": {
      "text/html": [
       "<div>\n",
       "<style scoped>\n",
       "    .dataframe tbody tr th:only-of-type {\n",
       "        vertical-align: middle;\n",
       "    }\n",
       "\n",
       "    .dataframe tbody tr th {\n",
       "        vertical-align: top;\n",
       "    }\n",
       "\n",
       "    .dataframe thead th {\n",
       "        text-align: right;\n",
       "    }\n",
       "</style>\n",
       "<table border=\"1\" class=\"dataframe\">\n",
       "  <thead>\n",
       "    <tr style=\"text-align: right;\">\n",
       "      <th></th>\n",
       "      <th>id</th>\n",
       "      <th>lat</th>\n",
       "      <th>long</th>\n",
       "      <th>date_taken_minute</th>\n",
       "      <th>date_taken_hour</th>\n",
       "      <th>date_taken_day</th>\n",
       "      <th>date_taken_month</th>\n",
       "      <th>date_taken_year</th>\n",
       "      <th>date_upload_minute</th>\n",
       "      <th>date_upload_hour</th>\n",
       "      <th>date_upload_day</th>\n",
       "      <th>date_upload_month</th>\n",
       "      <th>date_upload_year</th>\n",
       "    </tr>\n",
       "  </thead>\n",
       "  <tbody>\n",
       "    <tr>\n",
       "      <th>count</th>\n",
       "      <td>1.254450e+05</td>\n",
       "      <td>125445.000000</td>\n",
       "      <td>125445.000000</td>\n",
       "      <td>125445.000000</td>\n",
       "      <td>125445.000000</td>\n",
       "      <td>125445.000000</td>\n",
       "      <td>125445.000000</td>\n",
       "      <td>125445.000000</td>\n",
       "      <td>125445.000000</td>\n",
       "      <td>125445.000000</td>\n",
       "      <td>125445.000000</td>\n",
       "      <td>125445.000000</td>\n",
       "      <td>125445.000000</td>\n",
       "    </tr>\n",
       "    <tr>\n",
       "      <th>mean</th>\n",
       "      <td>1.943034e+10</td>\n",
       "      <td>45.764326</td>\n",
       "      <td>4.837632</td>\n",
       "      <td>29.426075</td>\n",
       "      <td>14.773391</td>\n",
       "      <td>15.126717</td>\n",
       "      <td>7.126629</td>\n",
       "      <td>2013.891945</td>\n",
       "      <td>29.471410</td>\n",
       "      <td>14.687249</td>\n",
       "      <td>15.652525</td>\n",
       "      <td>6.831879</td>\n",
       "      <td>2014.238072</td>\n",
       "    </tr>\n",
       "    <tr>\n",
       "      <th>std</th>\n",
       "      <td>1.415394e+10</td>\n",
       "      <td>0.023295</td>\n",
       "      <td>0.029665</td>\n",
       "      <td>17.576730</td>\n",
       "      <td>4.992414</td>\n",
       "      <td>8.672270</td>\n",
       "      <td>3.489012</td>\n",
       "      <td>3.209435</td>\n",
       "      <td>17.262973</td>\n",
       "      <td>6.615819</td>\n",
       "      <td>8.517690</td>\n",
       "      <td>3.616347</td>\n",
       "      <td>2.854888</td>\n",
       "    </tr>\n",
       "    <tr>\n",
       "      <th>min</th>\n",
       "      <td>3.066675e+08</td>\n",
       "      <td>45.655200</td>\n",
       "      <td>4.720312</td>\n",
       "      <td>0.000000</td>\n",
       "      <td>0.000000</td>\n",
       "      <td>1.000000</td>\n",
       "      <td>1.000000</td>\n",
       "      <td>1926.000000</td>\n",
       "      <td>0.000000</td>\n",
       "      <td>0.000000</td>\n",
       "      <td>1.000000</td>\n",
       "      <td>1.000000</td>\n",
       "      <td>2009.000000</td>\n",
       "    </tr>\n",
       "    <tr>\n",
       "      <th>25%</th>\n",
       "      <td>7.074764e+09</td>\n",
       "      <td>45.757508</td>\n",
       "      <td>4.826248</td>\n",
       "      <td>14.000000</td>\n",
       "      <td>12.000000</td>\n",
       "      <td>8.000000</td>\n",
       "      <td>4.000000</td>\n",
       "      <td>2012.000000</td>\n",
       "      <td>15.000000</td>\n",
       "      <td>11.000000</td>\n",
       "      <td>9.000000</td>\n",
       "      <td>4.000000</td>\n",
       "      <td>2012.000000</td>\n",
       "    </tr>\n",
       "    <tr>\n",
       "      <th>50%</th>\n",
       "      <td>1.421363e+10</td>\n",
       "      <td>45.762611</td>\n",
       "      <td>4.832805</td>\n",
       "      <td>30.000000</td>\n",
       "      <td>15.000000</td>\n",
       "      <td>14.000000</td>\n",
       "      <td>7.000000</td>\n",
       "      <td>2014.000000</td>\n",
       "      <td>30.000000</td>\n",
       "      <td>16.000000</td>\n",
       "      <td>15.000000</td>\n",
       "      <td>7.000000</td>\n",
       "      <td>2014.000000</td>\n",
       "    </tr>\n",
       "    <tr>\n",
       "      <th>75%</th>\n",
       "      <td>3.136933e+10</td>\n",
       "      <td>45.770404</td>\n",
       "      <td>4.842975</td>\n",
       "      <td>45.000000</td>\n",
       "      <td>18.000000</td>\n",
       "      <td>23.000000</td>\n",
       "      <td>10.000000</td>\n",
       "      <td>2017.000000</td>\n",
       "      <td>44.000000</td>\n",
       "      <td>20.000000</td>\n",
       "      <td>23.000000</td>\n",
       "      <td>10.000000</td>\n",
       "      <td>2017.000000</td>\n",
       "    </tr>\n",
       "    <tr>\n",
       "      <th>max</th>\n",
       "      <td>4.914809e+10</td>\n",
       "      <td>45.854950</td>\n",
       "      <td>5.006709</td>\n",
       "      <td>59.000000</td>\n",
       "      <td>23.000000</td>\n",
       "      <td>31.000000</td>\n",
       "      <td>12.000000</td>\n",
       "      <td>2238.000000</td>\n",
       "      <td>59.000000</td>\n",
       "      <td>23.000000</td>\n",
       "      <td>31.000000</td>\n",
       "      <td>12.000000</td>\n",
       "      <td>2019.000000</td>\n",
       "    </tr>\n",
       "  </tbody>\n",
       "</table>\n",
       "</div>"
      ],
      "text/plain": [
       "                 id            lat           long  date_taken_minute  \\\n",
       "count  1.254450e+05  125445.000000  125445.000000      125445.000000   \n",
       "mean   1.943034e+10      45.764326       4.837632          29.426075   \n",
       "std    1.415394e+10       0.023295       0.029665          17.576730   \n",
       "min    3.066675e+08      45.655200       4.720312           0.000000   \n",
       "25%    7.074764e+09      45.757508       4.826248          14.000000   \n",
       "50%    1.421363e+10      45.762611       4.832805          30.000000   \n",
       "75%    3.136933e+10      45.770404       4.842975          45.000000   \n",
       "max    4.914809e+10      45.854950       5.006709          59.000000   \n",
       "\n",
       "       date_taken_hour  date_taken_day  date_taken_month  date_taken_year  \\\n",
       "count    125445.000000   125445.000000     125445.000000    125445.000000   \n",
       "mean         14.773391       15.126717          7.126629      2013.891945   \n",
       "std           4.992414        8.672270          3.489012         3.209435   \n",
       "min           0.000000        1.000000          1.000000      1926.000000   \n",
       "25%          12.000000        8.000000          4.000000      2012.000000   \n",
       "50%          15.000000       14.000000          7.000000      2014.000000   \n",
       "75%          18.000000       23.000000         10.000000      2017.000000   \n",
       "max          23.000000       31.000000         12.000000      2238.000000   \n",
       "\n",
       "       date_upload_minute  date_upload_hour  date_upload_day  \\\n",
       "count       125445.000000     125445.000000    125445.000000   \n",
       "mean            29.471410         14.687249        15.652525   \n",
       "std             17.262973          6.615819         8.517690   \n",
       "min              0.000000          0.000000         1.000000   \n",
       "25%             15.000000         11.000000         9.000000   \n",
       "50%             30.000000         16.000000        15.000000   \n",
       "75%             44.000000         20.000000        23.000000   \n",
       "max             59.000000         23.000000        31.000000   \n",
       "\n",
       "       date_upload_month  date_upload_year  \n",
       "count      125445.000000     125445.000000  \n",
       "mean            6.831879       2014.238072  \n",
       "std             3.616347          2.854888  \n",
       "min             1.000000       2009.000000  \n",
       "25%             4.000000       2012.000000  \n",
       "50%             7.000000       2014.000000  \n",
       "75%            10.000000       2017.000000  \n",
       "max            12.000000       2019.000000  "
      ]
     },
     "execution_count": 61,
     "metadata": {},
     "output_type": "execute_result"
    }
   ],
   "source": [
    "# summarised statistics\n",
    "data_summary = data_cleaned.describe()\n",
    "data_summary"
   ]
  },
  {
   "cell_type": "markdown",
   "metadata": {},
   "source": [
    "We can see that values for dates are compliant with expectations (example: `\"date_taken_hour\"` between 0h and 23h with a mean around 15h). Yet it seems that an error appeard for the maximum value of `\"date_taken_year\"`. Indeed, it's unlikely that a photo was taken in the year 2238."
   ]
  },
  {
   "cell_type": "code",
   "execution_count": 62,
   "metadata": {},
   "outputs": [
    {
     "data": {
      "text/html": [
       "<div>\n",
       "<style scoped>\n",
       "    .dataframe tbody tr th:only-of-type {\n",
       "        vertical-align: middle;\n",
       "    }\n",
       "\n",
       "    .dataframe tbody tr th {\n",
       "        vertical-align: top;\n",
       "    }\n",
       "\n",
       "    .dataframe thead th {\n",
       "        text-align: right;\n",
       "    }\n",
       "</style>\n",
       "<table border=\"1\" class=\"dataframe\">\n",
       "  <thead>\n",
       "    <tr style=\"text-align: right;\">\n",
       "      <th></th>\n",
       "      <th>id</th>\n",
       "      <th>user</th>\n",
       "      <th>lat</th>\n",
       "      <th>long</th>\n",
       "      <th>tags</th>\n",
       "      <th>title</th>\n",
       "      <th>date_taken_minute</th>\n",
       "      <th>date_taken_hour</th>\n",
       "      <th>date_taken_day</th>\n",
       "      <th>date_taken_month</th>\n",
       "      <th>date_taken_year</th>\n",
       "      <th>date_upload_minute</th>\n",
       "      <th>date_upload_hour</th>\n",
       "      <th>date_upload_day</th>\n",
       "      <th>date_upload_month</th>\n",
       "      <th>date_upload_year</th>\n",
       "    </tr>\n",
       "  </thead>\n",
       "  <tbody>\n",
       "    <tr>\n",
       "      <th>32647</th>\n",
       "      <td>7690629716</td>\n",
       "      <td>83991262@N03</td>\n",
       "      <td>45.750606</td>\n",
       "      <td>4.835368</td>\n",
       "      <td>NaN</td>\n",
       "      <td>NaN</td>\n",
       "      <td>46.0</td>\n",
       "      <td>5</td>\n",
       "      <td>16</td>\n",
       "      <td>2</td>\n",
       "      <td>2238</td>\n",
       "      <td>57.0</td>\n",
       "      <td>13</td>\n",
       "      <td>1.0</td>\n",
       "      <td>8</td>\n",
       "      <td>2012.0</td>\n",
       "    </tr>\n",
       "  </tbody>\n",
       "</table>\n",
       "</div>"
      ],
      "text/plain": [
       "               id          user        lat      long tags title  \\\n",
       "32647  7690629716  83991262@N03  45.750606  4.835368  NaN   NaN   \n",
       "\n",
       "       date_taken_minute  date_taken_hour  date_taken_day  date_taken_month  \\\n",
       "32647               46.0                5              16                 2   \n",
       "\n",
       "       date_taken_year  date_upload_minute  date_upload_hour  date_upload_day  \\\n",
       "32647             2238                57.0                13              1.0   \n",
       "\n",
       "       date_upload_month  date_upload_year  \n",
       "32647                  8            2012.0  "
      ]
     },
     "execution_count": 62,
     "metadata": {},
     "output_type": "execute_result"
    }
   ],
   "source": [
    "data_cleaned[data_cleaned[\"date_taken_year\"] == 2238]"
   ]
  },
  {
   "cell_type": "markdown",
   "metadata": {},
   "source": [
    "As we can't determine the correct value for this record, we better remove it from the dataset."
   ]
  },
  {
   "cell_type": "code",
   "execution_count": 63,
   "metadata": {},
   "outputs": [
    {
     "name": "stdout",
     "output_type": "stream",
     "text": [
      " When pictures are taken : [2010 2009 2007 2008 2006 2002 2004 2005 1976 1995 2012 1998 1989 1957\n",
      " 1977 1979 2014 2001 1991 2011 2013 1980 2003 1985 1981 1997 1974 2015\n",
      " 1926 1930 1938 1935 1968 1972 1970 1983 1988 1973 2000 2017 2016 1969\n",
      " 1993 2018 1982 1965 1996 1966 2019]\n",
      "\n",
      " When pictures are uploaded : [2010. 2009. 2011. 2012. 2013. 2014. 2015. 2016. 2017. 2018. 2019.]\n"
     ]
    }
   ],
   "source": [
    "index=data_cleaned[data_cleaned['date_taken_year'] == 2238].index\n",
    "data_cleaned = data_cleaned.drop(index=index,axis=1)\n",
    "taken_years = data_cleaned[\"date_taken_year\"].unique()\n",
    "uploded_years = data_cleaned[\"date_upload_year\"].unique()\n",
    "print(f\" When pictures are taken : {taken_years}\\n\")\n",
    "print(f\" When pictures are uploaded : {uploded_years}\")"
   ]
  },
  {
   "cell_type": "markdown",
   "metadata": {},
   "source": [
    "It's interesting to note that pictures can have been taken a long time before the year of upload. This will be taken into account for the last part of this project (considering the effect of time on areas of interest)."
   ]
  },
  {
   "cell_type": "markdown",
   "metadata": {},
   "source": [
    "We can now save the cleaned data again and crate another dataframe only dedicated to spacial clusturing."
   ]
  },
  {
   "cell_type": "code",
   "execution_count": 64,
   "metadata": {},
   "outputs": [
    {
     "ename": "NameError",
     "evalue": "name 'data_cleaned' is not defined",
     "output_type": "error",
     "traceback": [
      "\u001b[0;31m---------------------------------------------------------------------------\u001b[0m",
      "\u001b[0;31mNameError\u001b[0m                                 Traceback (most recent call last)",
      "Cell \u001b[0;32mIn[1], line 1\u001b[0m\n\u001b[0;32m----> 1\u001b[0m \u001b[43mdata_cleaned\u001b[49m\u001b[38;5;241m.\u001b[39mto_csv(\u001b[38;5;124m'\u001b[39m\u001b[38;5;124m./data_cleaned.csv\u001b[39m\u001b[38;5;124m'\u001b[39m,index\u001b[38;5;241m=\u001b[39m\u001b[38;5;28;01mFalse\u001b[39;00m)\n\u001b[1;32m      2\u001b[0m coordinates_df \u001b[38;5;241m=\u001b[39m data_cleaned[[\u001b[38;5;124m\"\u001b[39m\u001b[38;5;124mid\u001b[39m\u001b[38;5;124m\"\u001b[39m, \u001b[38;5;124m\"\u001b[39m\u001b[38;5;124mlat\u001b[39m\u001b[38;5;124m\"\u001b[39m, \u001b[38;5;124m\"\u001b[39m\u001b[38;5;124mlong\u001b[39m\u001b[38;5;124m\"\u001b[39m]]\n\u001b[1;32m      3\u001b[0m coordinates_df\n",
      "\u001b[0;31mNameError\u001b[0m: name 'data_cleaned' is not defined"
     ]
    }
   ],
   "source": [
    "data_cleaned.to_csv('./data_cleaned.csv',index=False)\n",
    "coordinates_df = data_cleaned[[\"id\", \"lat\", \"long\"]]\n",
    "coordinates_df"
   ]
  },
  {
   "cell_type": "markdown",
   "metadata": {},
   "source": [
    "## Task #3: Prepare Data for Clustering"
   ]
  },
  {
   "cell_type": "markdown",
   "metadata": {},
   "source": [
    "Even though in our case the attributes have comparable scales, let's apply a [`StandardScaler`](https://scikit-learn.org/stable/modules/generated/sklearn.preprocessing.StandardScaler.html). Recall, that for a given value `x`, a standard score is given by $z = \\frac{x - mean(\\mathbf{x})}{std(\\mathbf{x})}$ "
   ]
  },
  {
   "cell_type": "code",
   "execution_count": 65,
   "metadata": {},
   "outputs": [],
   "source": [
    "# scaler\n",
    "from sklearn.preprocessing import StandardScaler"
   ]
  },
  {
   "cell_type": "code",
   "execution_count": 66,
   "metadata": {},
   "outputs": [
    {
     "name": "stdout",
     "output_type": "stream",
     "text": [
      "[[-0.4064356  -0.53671938]\n",
      " [-0.47460442  0.85355049]\n",
      " [-0.15758507  0.30108988]\n",
      " ...\n",
      " [-0.02871681 -0.05460994]\n",
      " [-0.02871681 -0.05460994]\n",
      " [-0.26378762 -0.19096379]]\n"
     ]
    },
    {
     "data": {
      "text/html": [
       "<div>\n",
       "<style scoped>\n",
       "    .dataframe tbody tr th:only-of-type {\n",
       "        vertical-align: middle;\n",
       "    }\n",
       "\n",
       "    .dataframe tbody tr th {\n",
       "        vertical-align: top;\n",
       "    }\n",
       "\n",
       "    .dataframe thead th {\n",
       "        text-align: right;\n",
       "    }\n",
       "</style>\n",
       "<table border=\"1\" class=\"dataframe\">\n",
       "  <thead>\n",
       "    <tr style=\"text-align: right;\">\n",
       "      <th></th>\n",
       "      <th>id</th>\n",
       "      <th>lat</th>\n",
       "      <th>long</th>\n",
       "      <th>scaled_lat</th>\n",
       "      <th>scaled_long</th>\n",
       "    </tr>\n",
       "  </thead>\n",
       "  <tbody>\n",
       "    <tr>\n",
       "      <th>0</th>\n",
       "      <td>4395181099</td>\n",
       "      <td>45.754858</td>\n",
       "      <td>4.821710</td>\n",
       "      <td>-0.406436</td>\n",
       "      <td>-0.536719</td>\n",
       "    </tr>\n",
       "    <tr>\n",
       "      <th>1</th>\n",
       "      <td>4394748717</td>\n",
       "      <td>45.753270</td>\n",
       "      <td>4.862953</td>\n",
       "      <td>-0.474604</td>\n",
       "      <td>0.853550</td>\n",
       "    </tr>\n",
       "    <tr>\n",
       "      <th>2</th>\n",
       "      <td>4394694699</td>\n",
       "      <td>45.760655</td>\n",
       "      <td>4.846564</td>\n",
       "      <td>-0.157585</td>\n",
       "      <td>0.301090</td>\n",
       "    </tr>\n",
       "    <tr>\n",
       "      <th>3</th>\n",
       "      <td>4394803790</td>\n",
       "      <td>45.784000</td>\n",
       "      <td>4.874072</td>\n",
       "      <td>0.844557</td>\n",
       "      <td>1.228363</td>\n",
       "    </tr>\n",
       "    <tr>\n",
       "      <th>4</th>\n",
       "      <td>4394566432</td>\n",
       "      <td>45.755940</td>\n",
       "      <td>4.833158</td>\n",
       "      <td>-0.359988</td>\n",
       "      <td>-0.150816</td>\n",
       "    </tr>\n",
       "    <tr>\n",
       "      <th>...</th>\n",
       "      <td>...</td>\n",
       "      <td>...</td>\n",
       "      <td>...</td>\n",
       "      <td>...</td>\n",
       "      <td>...</td>\n",
       "    </tr>\n",
       "    <tr>\n",
       "      <th>125440</th>\n",
       "      <td>44402328654</td>\n",
       "      <td>45.758316</td>\n",
       "      <td>4.825197</td>\n",
       "      <td>-0.257992</td>\n",
       "      <td>-0.419175</td>\n",
       "    </tr>\n",
       "    <tr>\n",
       "      <th>125441</th>\n",
       "      <td>44210748275</td>\n",
       "      <td>45.762635</td>\n",
       "      <td>4.837299</td>\n",
       "      <td>-0.072589</td>\n",
       "      <td>-0.011226</td>\n",
       "    </tr>\n",
       "    <tr>\n",
       "      <th>125442</th>\n",
       "      <td>45122361361</td>\n",
       "      <td>45.763657</td>\n",
       "      <td>4.836012</td>\n",
       "      <td>-0.028717</td>\n",
       "      <td>-0.054610</td>\n",
       "    </tr>\n",
       "    <tr>\n",
       "      <th>125443</th>\n",
       "      <td>45073351222</td>\n",
       "      <td>45.763657</td>\n",
       "      <td>4.836012</td>\n",
       "      <td>-0.028717</td>\n",
       "      <td>-0.054610</td>\n",
       "    </tr>\n",
       "    <tr>\n",
       "      <th>125444</th>\n",
       "      <td>45122093111</td>\n",
       "      <td>45.758181</td>\n",
       "      <td>4.831967</td>\n",
       "      <td>-0.263788</td>\n",
       "      <td>-0.190964</td>\n",
       "    </tr>\n",
       "  </tbody>\n",
       "</table>\n",
       "<p>125444 rows × 5 columns</p>\n",
       "</div>"
      ],
      "text/plain": [
       "                 id        lat      long  scaled_lat  scaled_long\n",
       "0        4395181099  45.754858  4.821710   -0.406436    -0.536719\n",
       "1        4394748717  45.753270  4.862953   -0.474604     0.853550\n",
       "2        4394694699  45.760655  4.846564   -0.157585     0.301090\n",
       "3        4394803790  45.784000  4.874072    0.844557     1.228363\n",
       "4        4394566432  45.755940  4.833158   -0.359988    -0.150816\n",
       "...             ...        ...       ...         ...          ...\n",
       "125440  44402328654  45.758316  4.825197   -0.257992    -0.419175\n",
       "125441  44210748275  45.762635  4.837299   -0.072589    -0.011226\n",
       "125442  45122361361  45.763657  4.836012   -0.028717    -0.054610\n",
       "125443  45073351222  45.763657  4.836012   -0.028717    -0.054610\n",
       "125444  45122093111  45.758181  4.831967   -0.263788    -0.190964\n",
       "\n",
       "[125444 rows x 5 columns]"
      ]
     },
     "execution_count": 66,
     "metadata": {},
     "output_type": "execute_result"
    }
   ],
   "source": [
    "# Scale the data\n",
    "scaler = StandardScaler()\n",
    "scaled_data = scaler.fit_transform(coordinates_df[[\"lat\", \"long\"]])\n",
    "# show\n",
    "print(scaled_data)\n",
    "# create a DataFrame\n",
    "scaled_coordinates_df = pd.DataFrame(data=coordinates_df)\n",
    "scaled_coordinates_df[['scaled_lat', 'scaled_long']] = scaled_data\n",
    "scaled_coordinates_df"
   ]
  },
  {
   "cell_type": "markdown",
   "metadata": {},
   "source": [
    "## Task #4: Apply k-means Clustering and Find the Optimal Number of Clusters using Elbow Method"
   ]
  },
  {
   "cell_type": "markdown",
   "metadata": {},
   "source": [
    "To apply **k-means clustering**, we are going to use [`sklearn.cluster.KMeans`](https://scikit-learn.org/stable/modules/generated/sklearn.cluster.KMeans.html)."
   ]
  },
  {
   "cell_type": "code",
   "execution_count": 67,
   "metadata": {},
   "outputs": [],
   "source": [
    "# k-means\n",
    "from sklearn.cluster import KMeans"
   ]
  },
  {
   "cell_type": "markdown",
   "metadata": {},
   "source": [
    "As k-means clusering relies on the parameter `k`, we can use the `Elbow Method` to approach the optimal value for `k`. `inertia` is used to measure the distance between each record from the center of its cluster."
   ]
  },
  {
   "cell_type": "code",
   "execution_count": 54,
   "metadata": {},
   "outputs": [
    {
     "data": {
      "image/png": "[encoded data removed]",
      "text/plain": [
       "<Figure size 640x480 with 1 Axes>"
      ]
     },
     "metadata": {},
     "output_type": "display_data"
    },
    {
     "data": {
      "text/plain": [
       "[250887.99999999348,\n",
       " 183685.1257995903,\n",
       " 140626.80350916614,\n",
       " 91381.30678474816,\n",
       " 65643.65297459689,\n",
       " 52701.63311785435,\n",
       " 46051.644424901664,\n",
       " 42233.42020917454,\n",
       " 34108.08213589077,\n",
       " 30929.625458310347,\n",
       " 29859.2379313738,\n",
       " 24290.54301566627,\n",
       " 23353.26560934352,\n",
       " 20619.33646664516,\n",
       " 18673.116170329944,\n",
       " 17894.21597877387,\n",
       " 15434.457401181495,\n",
       " 15346.641406773833,\n",
       " 13950.829753664413,\n",
       " 12710.080657210292,\n",
       " 12009.686684906119,\n",
       " 11384.402427627174,\n",
       " 10850.87742945909,\n",
       " 10082.852688487656,\n",
       " 9802.955844116592,\n",
       " 9263.03563578723,\n",
       " 8511.131554466865,\n",
       " 7996.43851348276,\n",
       " 7627.918094965693,\n",
       " 7452.705907392081,\n",
       " 7118.989918061476,\n",
       " 7262.908766129476,\n",
       " 6629.01770386705,\n",
       " 6810.4341465017405,\n",
       " 6189.342031864211,\n",
       " 6066.856087018896,\n",
       " 6114.621668823525,\n",
       " 5683.149066255794,\n",
       " 5640.5217105151405]"
      ]
     },
     "execution_count": 54,
     "metadata": {},
     "output_type": "execute_result"
    }
   ],
   "source": [
    "inertias = []\n",
    "for i in range(1,40):\n",
    "  kmeans=KMeans(n_clusters=i,init='k-means++')\n",
    "  kmeans.fit(scaled_coordinates_df[[\"scaled_lat\", \"scaled_long\"]])\n",
    "  inertias.append(kmeans.inertia_)\n",
    "\n",
    "plt.plot(range(1,40),inertias)\n",
    "plt.show()\n",
    "inertias"
   ]
  },
  {
   "attachments": {},
   "cell_type": "markdown",
   "metadata": {},
   "source": [
    "It seems that optimal values for `k` are arround 10 clusters. Thus let's try to visualize the effect of this value."
   ]
  },
  {
   "cell_type": "code",
   "execution_count": 55,
   "metadata": {},
   "outputs": [
    {
     "data": {
      "text/html": [
       "<div>\n",
       "<style scoped>\n",
       "    .dataframe tbody tr th:only-of-type {\n",
       "        vertical-align: middle;\n",
       "    }\n",
       "\n",
       "    .dataframe tbody tr th {\n",
       "        vertical-align: top;\n",
       "    }\n",
       "\n",
       "    .dataframe thead th {\n",
       "        text-align: right;\n",
       "    }\n",
       "</style>\n",
       "<table border=\"1\" class=\"dataframe\">\n",
       "  <thead>\n",
       "    <tr style=\"text-align: right;\">\n",
       "      <th></th>\n",
       "      <th>id</th>\n",
       "      <th>lat</th>\n",
       "      <th>long</th>\n",
       "      <th>scaled_lat</th>\n",
       "      <th>scaled_long</th>\n",
       "      <th>k_means_clusters</th>\n",
       "    </tr>\n",
       "  </thead>\n",
       "  <tbody>\n",
       "    <tr>\n",
       "      <th>0</th>\n",
       "      <td>4395181099</td>\n",
       "      <td>45.754858</td>\n",
       "      <td>4.821710</td>\n",
       "      <td>-0.406436</td>\n",
       "      <td>-0.536719</td>\n",
       "      <td>0</td>\n",
       "    </tr>\n",
       "    <tr>\n",
       "      <th>1</th>\n",
       "      <td>4394748717</td>\n",
       "      <td>45.753270</td>\n",
       "      <td>4.862953</td>\n",
       "      <td>-0.474604</td>\n",
       "      <td>0.853550</td>\n",
       "      <td>7</td>\n",
       "    </tr>\n",
       "    <tr>\n",
       "      <th>2</th>\n",
       "      <td>4394694699</td>\n",
       "      <td>45.760655</td>\n",
       "      <td>4.846564</td>\n",
       "      <td>-0.157585</td>\n",
       "      <td>0.301090</td>\n",
       "      <td>7</td>\n",
       "    </tr>\n",
       "    <tr>\n",
       "      <th>3</th>\n",
       "      <td>4394803790</td>\n",
       "      <td>45.784000</td>\n",
       "      <td>4.874072</td>\n",
       "      <td>0.844557</td>\n",
       "      <td>1.228363</td>\n",
       "      <td>2</td>\n",
       "    </tr>\n",
       "    <tr>\n",
       "      <th>4</th>\n",
       "      <td>4394566432</td>\n",
       "      <td>45.755940</td>\n",
       "      <td>4.833158</td>\n",
       "      <td>-0.359988</td>\n",
       "      <td>-0.150816</td>\n",
       "      <td>0</td>\n",
       "    </tr>\n",
       "    <tr>\n",
       "      <th>...</th>\n",
       "      <td>...</td>\n",
       "      <td>...</td>\n",
       "      <td>...</td>\n",
       "      <td>...</td>\n",
       "      <td>...</td>\n",
       "      <td>...</td>\n",
       "    </tr>\n",
       "    <tr>\n",
       "      <th>125440</th>\n",
       "      <td>44402328654</td>\n",
       "      <td>45.758316</td>\n",
       "      <td>4.825197</td>\n",
       "      <td>-0.257992</td>\n",
       "      <td>-0.419175</td>\n",
       "      <td>0</td>\n",
       "    </tr>\n",
       "    <tr>\n",
       "      <th>125441</th>\n",
       "      <td>44210748275</td>\n",
       "      <td>45.762635</td>\n",
       "      <td>4.837299</td>\n",
       "      <td>-0.072589</td>\n",
       "      <td>-0.011226</td>\n",
       "      <td>0</td>\n",
       "    </tr>\n",
       "    <tr>\n",
       "      <th>125442</th>\n",
       "      <td>45122361361</td>\n",
       "      <td>45.763657</td>\n",
       "      <td>4.836012</td>\n",
       "      <td>-0.028717</td>\n",
       "      <td>-0.054610</td>\n",
       "      <td>0</td>\n",
       "    </tr>\n",
       "    <tr>\n",
       "      <th>125443</th>\n",
       "      <td>45073351222</td>\n",
       "      <td>45.763657</td>\n",
       "      <td>4.836012</td>\n",
       "      <td>-0.028717</td>\n",
       "      <td>-0.054610</td>\n",
       "      <td>0</td>\n",
       "    </tr>\n",
       "    <tr>\n",
       "      <th>125444</th>\n",
       "      <td>45122093111</td>\n",
       "      <td>45.758181</td>\n",
       "      <td>4.831967</td>\n",
       "      <td>-0.263788</td>\n",
       "      <td>-0.190964</td>\n",
       "      <td>0</td>\n",
       "    </tr>\n",
       "  </tbody>\n",
       "</table>\n",
       "<p>125444 rows × 6 columns</p>\n",
       "</div>"
      ],
      "text/plain": [
       "                 id        lat      long  scaled_lat  scaled_long  \\\n",
       "0        4395181099  45.754858  4.821710   -0.406436    -0.536719   \n",
       "1        4394748717  45.753270  4.862953   -0.474604     0.853550   \n",
       "2        4394694699  45.760655  4.846564   -0.157585     0.301090   \n",
       "3        4394803790  45.784000  4.874072    0.844557     1.228363   \n",
       "4        4394566432  45.755940  4.833158   -0.359988    -0.150816   \n",
       "...             ...        ...       ...         ...          ...   \n",
       "125440  44402328654  45.758316  4.825197   -0.257992    -0.419175   \n",
       "125441  44210748275  45.762635  4.837299   -0.072589    -0.011226   \n",
       "125442  45122361361  45.763657  4.836012   -0.028717    -0.054610   \n",
       "125443  45073351222  45.763657  4.836012   -0.028717    -0.054610   \n",
       "125444  45122093111  45.758181  4.831967   -0.263788    -0.190964   \n",
       "\n",
       "        k_means_clusters  \n",
       "0                      0  \n",
       "1                      7  \n",
       "2                      7  \n",
       "3                      2  \n",
       "4                      0  \n",
       "...                  ...  \n",
       "125440                 0  \n",
       "125441                 0  \n",
       "125442                 0  \n",
       "125443                 0  \n",
       "125444                 0  \n",
       "\n",
       "[125444 rows x 6 columns]"
      ]
     },
     "execution_count": 55,
     "metadata": {},
     "output_type": "execute_result"
    }
   ],
   "source": [
    "k = 10\n",
    "kmeans=KMeans(n_clusters=k,init='k-means++')\n",
    "kmeans.fit(scaled_coordinates_df[[\"scaled_lat\", \"scaled_long\"]])\n",
    "scaled_coordinates_df[\"k_means_clusters\"] = kmeans.labels_\n",
    "scaled_coordinates_df\n"
   ]
  },
  {
   "cell_type": "code",
   "execution_count": null,
   "metadata": {},
   "outputs": [],
   "source": [
    "m = folium.Map([45.762611,4.832805], zoom_start=12)\n",
    "\n",
    "scaled_coordinates_sample = scaled_coordinates_df.sample(5000)\n",
    "\n",
    "first_cluster_coordinates_df = scaled_coordinates_df.loc[scaled_coordinates_df[\"k_means_clusters\"] == 1]\n",
    "\n",
    "cluster_colors = {cluster: f\"#{int(colors(i)[0]*255):02x}{int(colors(i)[1]*255):02x}{int(colors(i)[2]*255):02x}\" \n",
    "                  for i, cluster in enumerate(sorted(scaled_coordinates_sample[\"k_means_clusters\"].unique()))}\n",
    "\n",
    "for index, row in scaled_coordinates_sample.iterrows():\n",
    "    cluster_color = cluster_colors[row[\"k_means_clusters\"]]\n",
    "    folium.Marker(\n",
    "        location=[row[\"lat\"],row[\"long\"]],\n",
    "        icon=folium.DivIcon(html=f\"\"\"<svg width=\"20px\" height=\"20px\" viewBox=\"0 0 24 24\" fill=\"none\" xmlns=\"http://www.w3.org/2000/svg\">\n",
    "        <path d=\"M12 9.5C13.3807 9.5 14.5 10.6193 14.5 12C14.5 13.3807 13.3807 14.5 12 14.5C10.6193 14.5 9.5 13.3807 9.5 12C9.5 10.6193 10.6193 9.5 12 9.5Z\" fill=\"{cluster_color}\"/>\n",
    "        </svg>\"\"\")\n",
    "    ).add_to(m)\n",
    "\n",
    "centers = scaler.inverse_transform(kmeans.cluster_centers_)\n",
    "\n",
    "for i in centers:\n",
    "    folium.Marker(\n",
    "        location=[i[0],i[1]],\n",
    "        icon=folium.DivIcon(html=f\"\"\"<svg width=\"60px\" height=\"60px\" viewBox=\"0 0 24 24\" fill=\"none\" xmlns=\"http://www.w3.org/2000/svg\">\n",
    "        <path d=\"M12 9.5C13.3807 9.5 14.5 10.6193 14.5 12C14.5 13.3807 13.3807 14.5 12 14.5C10.6193 14.5 9.5 13.3807 9.5 12C9.5 10.6193 10.6193 9.5 12 9.5Z\" fill=\"#0b5555\"/>\n",
    "        </svg>\"\"\")\n",
    "    ).add_to(m)\n",
    "\n",
    "m\n"
   ]
  },
  {
   "cell_type": "markdown",
   "metadata": {},
   "source": [
    "It seems pretty obvious that 6 isn't a good value for the number of cluster, because there is probably more than 6 points of interest in Lyon... We could have expected for the main districts of Lyon to be separated clearly but it isn't even the case.\n",
    "\n",
    "We could try another method to find a better value for `k` (as the silhouette coefficient), but it would be tedious because we can only evaluate the results one by one for each values of `k`.\n",
    "\n",
    "* Score near +1 means:\n",
    "    - The data point is far from neighboring clusters\n",
    "    - The point is well-matched to its cluster\n",
    "    - Indicates very distinct, well-separated clustering\n",
    "* Score near 0 means:\n",
    "    - The data point is close to the decision boundary between clusters\n",
    "    - The point could potentially belong to either cluster\n",
    "    - Suggests overlapping or not well-defined clusters\n",
    "* Score near -1 means:\n",
    "    - The data point might be assigned to the wrong cluster\n",
    "    - The point is closer to points in another cluster than its own\n",
    "    - Indicates poor clustering or potential misassignments\n",
    "\n",
    "We can use [`sklearn.metrics.silhouette_score`](https://scikit-learn.org/1.5/modules/generated/sklearn.metrics.silhouette_score.html) and [`sklearn.metrics.silhouette_samples`](https://scikit-learn.org/stable/modules/generated/sklearn.metrics.silhouette_samples.html)"
   ]
  },
  {
   "cell_type": "code",
   "execution_count": 57,
   "metadata": {},
   "outputs": [],
   "source": [
    "# silhouette scores\n",
    "from sklearn.metrics import silhouette_score, silhouette_samples"
   ]
  },
  {
   "cell_type": "code",
   "execution_count": 59,
   "metadata": {},
   "outputs": [],
   "source": [
    "for_silhouette_df = scaled_coordinates_df.copy()\n",
    "\n",
    "for_silhouette_df = for_silhouette_df.sort_values(by=[\"k_means_clusters\"])\n",
    "\n",
    "for_silhouette_df[\"silhouettes\"] = silhouette_samples(for_silhouette_df[[\"lat\",\"long\"]],for_silhouette_df[\"k_means_clusters\"])\n",
    "\n",
    "cluster_silhouette_score = for_silhouette_df.groupby([\"k_means_clusters\"]).mean()[\"silhouettes\"]\n",
    "\n",
    "average_silhouette_score = for_silhouette_df[\"silhouettes\"].mean()"
   ]
  },
  {
   "cell_type": "code",
   "execution_count": 60,
   "metadata": {},
   "outputs": [],
   "source": [
    "import matplotlib.cm as cm"
   ]
  },
  {
   "cell_type": "code",
   "execution_count": 64,
   "metadata": {},
   "outputs": [
    {
     "ename": "ValueError",
     "evalue": "'x2' is not 1-dimensional",
     "output_type": "error",
     "traceback": [
      "\u001b[1;31m---------------------------------------------------------------------------\u001b[0m",
      "\u001b[1;31mValueError\u001b[0m                                Traceback (most recent call last)",
      "Cell \u001b[1;32mIn[64], line 13\u001b[0m\n\u001b[0;32m     10\u001b[0m y_upper \u001b[38;5;241m=\u001b[39m y_lower \u001b[38;5;241m+\u001b[39m size_cluster_i\n\u001b[0;32m     12\u001b[0m color \u001b[38;5;241m=\u001b[39m cm\u001b[38;5;241m.\u001b[39mnipy_spectral(\u001b[38;5;28mfloat\u001b[39m(i) \u001b[38;5;241m/\u001b[39m \u001b[38;5;241m3\u001b[39m)\n\u001b[1;32m---> 13\u001b[0m \u001b[43max1\u001b[49m\u001b[38;5;241;43m.\u001b[39;49m\u001b[43mfill_betweenx\u001b[49m\u001b[43m(\u001b[49m\n\u001b[0;32m     14\u001b[0m \u001b[43m    \u001b[49m\u001b[43mnp\u001b[49m\u001b[38;5;241;43m.\u001b[39;49m\u001b[43marange\u001b[49m\u001b[43m(\u001b[49m\u001b[43my_lower\u001b[49m\u001b[43m,\u001b[49m\u001b[43m \u001b[49m\u001b[43my_upper\u001b[49m\u001b[43m)\u001b[49m\u001b[43m,\u001b[49m\n\u001b[0;32m     15\u001b[0m \u001b[43m    \u001b[49m\u001b[38;5;241;43m0\u001b[39;49m\u001b[43m,\u001b[49m\n\u001b[0;32m     16\u001b[0m \u001b[43m    \u001b[49m\u001b[43mith_cluster_silhouette_values\u001b[49m\u001b[43m,\u001b[49m\n\u001b[0;32m     17\u001b[0m \u001b[43m    \u001b[49m\u001b[43mfacecolor\u001b[49m\u001b[38;5;241;43m=\u001b[39;49m\u001b[43mcolor\u001b[49m\u001b[43m,\u001b[49m\n\u001b[0;32m     18\u001b[0m \u001b[43m    \u001b[49m\u001b[43medgecolor\u001b[49m\u001b[38;5;241;43m=\u001b[39;49m\u001b[43mcolor\u001b[49m\u001b[43m,\u001b[49m\n\u001b[0;32m     19\u001b[0m \u001b[43m    \u001b[49m\u001b[43malpha\u001b[49m\u001b[38;5;241;43m=\u001b[39;49m\u001b[38;5;241;43m0.7\u001b[39;49m\u001b[43m,\u001b[49m\n\u001b[0;32m     20\u001b[0m \u001b[43m\u001b[49m\u001b[43m)\u001b[49m\n\u001b[0;32m     22\u001b[0m ax1\u001b[38;5;241m.\u001b[39mtext(\u001b[38;5;241m-\u001b[39m\u001b[38;5;241m0.05\u001b[39m, y_lower \u001b[38;5;241m+\u001b[39m \u001b[38;5;241m0.5\u001b[39m \u001b[38;5;241m*\u001b[39m size_cluster_i, \u001b[38;5;28mstr\u001b[39m(i))\n\u001b[0;32m     24\u001b[0m y_lower \u001b[38;5;241m=\u001b[39m y_upper \u001b[38;5;241m+\u001b[39m \u001b[38;5;241m10\u001b[39m\n",
      "File \u001b[1;32mc:\\Users\\flofl\\AppData\\Local\\Programs\\Python\\Python312\\Lib\\site-packages\\matplotlib\\__init__.py:1478\u001b[0m, in \u001b[0;36m_preprocess_data.<locals>.inner\u001b[1;34m(ax, data, *args, **kwargs)\u001b[0m\n\u001b[0;32m   1475\u001b[0m \u001b[38;5;129m@functools\u001b[39m\u001b[38;5;241m.\u001b[39mwraps(func)\n\u001b[0;32m   1476\u001b[0m \u001b[38;5;28;01mdef\u001b[39;00m \u001b[38;5;21minner\u001b[39m(ax, \u001b[38;5;241m*\u001b[39margs, data\u001b[38;5;241m=\u001b[39m\u001b[38;5;28;01mNone\u001b[39;00m, \u001b[38;5;241m*\u001b[39m\u001b[38;5;241m*\u001b[39mkwargs):\n\u001b[0;32m   1477\u001b[0m     \u001b[38;5;28;01mif\u001b[39;00m data \u001b[38;5;129;01mis\u001b[39;00m \u001b[38;5;28;01mNone\u001b[39;00m:\n\u001b[1;32m-> 1478\u001b[0m         \u001b[38;5;28;01mreturn\u001b[39;00m \u001b[43mfunc\u001b[49m\u001b[43m(\u001b[49m\u001b[43max\u001b[49m\u001b[43m,\u001b[49m\u001b[43m \u001b[49m\u001b[38;5;241;43m*\u001b[39;49m\u001b[38;5;28;43mmap\u001b[39;49m\u001b[43m(\u001b[49m\u001b[43msanitize_sequence\u001b[49m\u001b[43m,\u001b[49m\u001b[43m \u001b[49m\u001b[43margs\u001b[49m\u001b[43m)\u001b[49m\u001b[43m,\u001b[49m\u001b[43m \u001b[49m\u001b[38;5;241;43m*\u001b[39;49m\u001b[38;5;241;43m*\u001b[39;49m\u001b[43mkwargs\u001b[49m\u001b[43m)\u001b[49m\n\u001b[0;32m   1480\u001b[0m     bound \u001b[38;5;241m=\u001b[39m new_sig\u001b[38;5;241m.\u001b[39mbind(ax, \u001b[38;5;241m*\u001b[39margs, \u001b[38;5;241m*\u001b[39m\u001b[38;5;241m*\u001b[39mkwargs)\n\u001b[0;32m   1481\u001b[0m     auto_label \u001b[38;5;241m=\u001b[39m (bound\u001b[38;5;241m.\u001b[39marguments\u001b[38;5;241m.\u001b[39mget(label_namer)\n\u001b[0;32m   1482\u001b[0m                   \u001b[38;5;129;01mor\u001b[39;00m bound\u001b[38;5;241m.\u001b[39mkwargs\u001b[38;5;241m.\u001b[39mget(label_namer))\n",
      "File \u001b[1;32mc:\\Users\\flofl\\AppData\\Local\\Programs\\Python\\Python312\\Lib\\site-packages\\matplotlib\\axes\\_axes.py:5518\u001b[0m, in \u001b[0;36mAxes.fill_betweenx\u001b[1;34m(self, y, x1, x2, where, step, interpolate, **kwargs)\u001b[0m\n\u001b[0;32m   5516\u001b[0m \u001b[38;5;28;01mdef\u001b[39;00m \u001b[38;5;21mfill_betweenx\u001b[39m(\u001b[38;5;28mself\u001b[39m, y, x1, x2\u001b[38;5;241m=\u001b[39m\u001b[38;5;241m0\u001b[39m, where\u001b[38;5;241m=\u001b[39m\u001b[38;5;28;01mNone\u001b[39;00m,\n\u001b[0;32m   5517\u001b[0m                   step\u001b[38;5;241m=\u001b[39m\u001b[38;5;28;01mNone\u001b[39;00m, interpolate\u001b[38;5;241m=\u001b[39m\u001b[38;5;28;01mFalse\u001b[39;00m, \u001b[38;5;241m*\u001b[39m\u001b[38;5;241m*\u001b[39mkwargs):\n\u001b[1;32m-> 5518\u001b[0m     \u001b[38;5;28;01mreturn\u001b[39;00m \u001b[38;5;28;43mself\u001b[39;49m\u001b[38;5;241;43m.\u001b[39;49m\u001b[43m_fill_between_x_or_y\u001b[49m\u001b[43m(\u001b[49m\n\u001b[0;32m   5519\u001b[0m \u001b[43m        \u001b[49m\u001b[38;5;124;43m\"\u001b[39;49m\u001b[38;5;124;43my\u001b[39;49m\u001b[38;5;124;43m\"\u001b[39;49m\u001b[43m,\u001b[49m\u001b[43m \u001b[49m\u001b[43my\u001b[49m\u001b[43m,\u001b[49m\u001b[43m \u001b[49m\u001b[43mx1\u001b[49m\u001b[43m,\u001b[49m\u001b[43m \u001b[49m\u001b[43mx2\u001b[49m\u001b[43m,\u001b[49m\n\u001b[0;32m   5520\u001b[0m \u001b[43m        \u001b[49m\u001b[43mwhere\u001b[49m\u001b[38;5;241;43m=\u001b[39;49m\u001b[43mwhere\u001b[49m\u001b[43m,\u001b[49m\u001b[43m \u001b[49m\u001b[43minterpolate\u001b[49m\u001b[38;5;241;43m=\u001b[39;49m\u001b[43minterpolate\u001b[49m\u001b[43m,\u001b[49m\u001b[43m \u001b[49m\u001b[43mstep\u001b[49m\u001b[38;5;241;43m=\u001b[39;49m\u001b[43mstep\u001b[49m\u001b[43m,\u001b[49m\u001b[43m \u001b[49m\u001b[38;5;241;43m*\u001b[39;49m\u001b[38;5;241;43m*\u001b[39;49m\u001b[43mkwargs\u001b[49m\u001b[43m)\u001b[49m\n",
      "File \u001b[1;32mc:\\Users\\flofl\\AppData\\Local\\Programs\\Python\\Python312\\Lib\\site-packages\\matplotlib\\axes\\_axes.py:5411\u001b[0m, in \u001b[0;36mAxes._fill_between_x_or_y\u001b[1;34m(self, ind_dir, ind, dep1, dep2, where, interpolate, step, **kwargs)\u001b[0m\n\u001b[0;32m   5408\u001b[0m \u001b[38;5;28;01mfor\u001b[39;00m name, array \u001b[38;5;129;01min\u001b[39;00m [\n\u001b[0;32m   5409\u001b[0m         (ind_dir, ind), (\u001b[38;5;124mf\u001b[39m\u001b[38;5;124m\"\u001b[39m\u001b[38;5;132;01m{\u001b[39;00mdep_dir\u001b[38;5;132;01m}\u001b[39;00m\u001b[38;5;124m1\u001b[39m\u001b[38;5;124m\"\u001b[39m, dep1), (\u001b[38;5;124mf\u001b[39m\u001b[38;5;124m\"\u001b[39m\u001b[38;5;132;01m{\u001b[39;00mdep_dir\u001b[38;5;132;01m}\u001b[39;00m\u001b[38;5;124m2\u001b[39m\u001b[38;5;124m\"\u001b[39m, dep2)]:\n\u001b[0;32m   5410\u001b[0m     \u001b[38;5;28;01mif\u001b[39;00m array\u001b[38;5;241m.\u001b[39mndim \u001b[38;5;241m>\u001b[39m \u001b[38;5;241m1\u001b[39m:\n\u001b[1;32m-> 5411\u001b[0m         \u001b[38;5;28;01mraise\u001b[39;00m \u001b[38;5;167;01mValueError\u001b[39;00m(\u001b[38;5;124mf\u001b[39m\u001b[38;5;124m\"\u001b[39m\u001b[38;5;132;01m{\u001b[39;00mname\u001b[38;5;132;01m!r}\u001b[39;00m\u001b[38;5;124m is not 1-dimensional\u001b[39m\u001b[38;5;124m\"\u001b[39m)\n\u001b[0;32m   5413\u001b[0m \u001b[38;5;28;01mif\u001b[39;00m where \u001b[38;5;129;01mis\u001b[39;00m \u001b[38;5;28;01mNone\u001b[39;00m:\n\u001b[0;32m   5414\u001b[0m     where \u001b[38;5;241m=\u001b[39m \u001b[38;5;28;01mTrue\u001b[39;00m\n",
      "\u001b[1;31mValueError\u001b[0m: 'x2' is not 1-dimensional"
     ]
    },
    {
     "data": {
      "text/plain": [
       "<Figure size 2000x2000 with 0 Axes>"
      ]
     },
     "metadata": {},
     "output_type": "display_data"
    },
    {
     "data": {
      "image/png": "[encoded data removed]",
      "text/plain": [
       "<Figure size 640x480 with 1 Axes>"
      ]
     },
     "metadata": {},
     "output_type": "display_data"
    }
   ],
   "source": [
    "fig = plt.figure(figsize = (20,20))\n",
    "fig, (ax1) = plt.subplots(1, 1)\n",
    "y_lower = 10\n",
    "for i in range(3):\n",
    "    ith_cluster_silhouette_values = for_silhouette_df.loc[for_silhouette_df[\"k_means_clusters\"] == i]\n",
    "\n",
    "    ith_cluster_silhouette_values.sort_values(by=[\"silhouettes\"])\n",
    "\n",
    "    size_cluster_i = ith_cluster_silhouette_values.shape[0]\n",
    "    y_upper = y_lower + size_cluster_i\n",
    "\n",
    "    color = cm.nipy_spectral(float(i) / 3)\n",
    "    ax1.fill_betweenx(\n",
    "        np.arange(y_lower, y_upper),\n",
    "        0,\n",
    "        ith_cluster_silhouette_values,\n",
    "        facecolor=color,\n",
    "        edgecolor=color,\n",
    "        alpha=0.7,\n",
    "    )\n",
    "\n",
    "    ax1.text(-0.05, y_lower + 0.5 * size_cluster_i, str(i))\n",
    "\n",
    "    y_lower = y_upper + 10\n",
    "\n",
    "ax1.set_title(\"The silhouette plot for the various clusters.\")\n",
    "ax1.set_xlabel(\"The silhouette coefficient values\")\n",
    "ax1.set_ylabel(\"Cluster label\")\n",
    "\n",
    "ax1.axvline(x=average_silhouette_score, color=\"red\", linestyle=\"--\")\n",
    "\n",
    "ax1.set_yticks([]) \n",
    "ax1.set_xticks([-0.1, 0, 0.2, 0.4, 0.6, 0.8, 1])"
   ]
  },
  {
   "cell_type": "code",
   "execution_count": null,
   "metadata": {},
   "outputs": [],
   "source": [
    "# ANSWER\n"
   ]
  },
  {
   "cell_type": "markdown",
   "metadata": {},
   "source": [
    "As general guidelines, the plot can be interpreted by looking at:\n",
    "* *the thickness of the clusters (number of points)*;\n",
    "* check if any cluster has many negative values;\n",
    "* check the consistency of the silhouette widths within clusters;\n",
    "* the average value. Recall that in general, the following interpretation applies:\n",
    "    - \\> 0.7: Strong clustering structure\n",
    "    - 0.5 - 0.7: Reasonable clustering structure\n",
    "    - 0.25 - 0.5: Weak clustering structure\n",
    "    - < 0.25: No substantial clustering structure\n",
    "\n",
    "\n",
    "* Cluster Silhouette scores. "
   ]
  },
  {
   "cell_type": "markdown",
   "metadata": {},
   "source": [
    "YOUR COMMENT: TO COMPLETE"
   ]
  },
  {
   "cell_type": "markdown",
   "metadata": {},
   "source": [
    "## Task 6: Apply Hierarchical Clustering"
   ]
  },
  {
   "cell_type": "markdown",
   "metadata": {},
   "source": [
    "**QUESTIONS**\n",
    "\n",
    "* Apply Agglomerative clustering with different linkage options: complete, average, single. \n",
    "\n",
    "*Hint*: use [`sklearn.cluster.AgglomerativeClustering`](https://scikit-learn.org/stable/modules/generated/sklearn.cluster.AgglomerativeClustering.html)\n",
    "* For each linkage, draw a dendrogram.\n",
    "* Calculate the silhouette scores"
   ]
  },
  {
   "cell_type": "code",
   "execution_count": 65,
   "metadata": {},
   "outputs": [],
   "source": [
    "from scipy.cluster.hierarchy import dendrogram\n",
    "from sklearn.cluster import AgglomerativeClustering"
   ]
  },
  {
   "cell_type": "code",
   "execution_count": 72,
   "metadata": {},
   "outputs": [],
   "source": [
    "threshold = max_dist = np.sqrt(2 * (2 - 2/10000))\n",
    "print(f\"Threshold: {threshold}\")\n",
    "AgglomerativeClustering = AgglomerativeClustering(n_clusters=None, affinity='euclidean', linkage='ward', distance_threshold=threshold)\n",
    "AgglomerativeClustering.fit(scaled_coordinates_df[[\"scaled_lat\", \"scaled_long\"]])"
   ]
  },
  {
   "cell_type": "code",
   "execution_count": 73,
   "metadata": {},
   "outputs": [],
   "source": [
    "# ANSWER\n"
   ]
  },
  {
   "cell_type": "markdown",
   "metadata": {},
   "source": [
    "## Task 7: Apply DBSCAN"
   ]
  },
  {
   "cell_type": "markdown",
   "metadata": {},
   "source": [
    "**QUESTIONS**\n",
    "\n",
    "* Apply [sklearn.cluster.DBSCAN](https://scikit-learn.org/stable/modules/generated/sklearn.cluster.DBSCAN.html) algorithm\n",
    "* Identify the best values for `eps` and `min_sanples` by varying the values within a range and by using Silhouette coefficient\n",
    "* Apply DBSCAN with the best parameters found\n",
    "* Print number of clusters and noise points"
   ]
  },
  {
   "cell_type": "code",
   "execution_count": 74,
   "metadata": {},
   "outputs": [],
   "source": [
    "# DBSCAN\n",
    "from sklearn.cluster import DBSCAN"
   ]
  },
  {
   "cell_type": "code",
   "execution_count": 75,
   "metadata": {},
   "outputs": [],
   "source": [
    "\n",
    "clustering = DBSCAN(eps=3, min_samples=2).fit(scaled_coordinates_df[[\"scaled_lat\", \"scaled_long\"]])\n",
    "scaled_coordinates_sample[\"DBSCAN_clusters\"] = clustering.labels_\n",
    "num_clusters = scaled_coordinates_sample[\"DBSCAN_clusters\"].nunique()\n",
    "scaled_coordinates_df.info()\n",
    "\"\"\"\n",
    "for_silhouette_df = scaled_data_df.copy()\n",
    "for_silhouette_df[\"DBSCAN_clusters\"] = labels\n",
    "\n",
    "for_silhouette_df = for_silhouette_df.sort_values(by=[\"labels\"])\n",
    "\n",
    "for_silhouette_df[\"silhouettes\"] = silhouette_samples(for_silhouette_df[features],for_silhouette_df[\"labels\"])\n",
    "\n",
    "cluster_silhouette_score = for_silhouette_df.groupby([\"labels\"]).mean()[\"silhouettes\"]\n",
    "\n",
    "average_silhouette_score = for_silhouette_df[\"silhouettes\"].mean()\"\"\""
   ]
  },
  {
   "cell_type": "code",
   "execution_count": 76,
   "metadata": {},
   "outputs": [],
   "source": [
    "# ANSWER"
   ]
  },
  {
   "cell_type": "markdown",
   "metadata": {},
   "source": [
    "## Task 8: Cluster Characterisation using Apriori algorithm"
   ]
  },
  {
   "cell_type": "markdown",
   "metadata": {},
   "source": [
    "Now, we would like to describe the obtained cluster. To do so, let's use frequent pattern mining and in particular **Apriori algorithm**. \n",
    "\n",
    "**QUESTIONS**\n",
    "* First, convert numerical features to categorical (low, medium, high) based on quantiles. Add binary columns, e.g. `sepal length low`, `sepal length medium`, `sepal length high` depending on the values"
   ]
  },
  {
   "cell_type": "code",
   "execution_count": 77,
   "metadata": {},
   "outputs": [],
   "source": [
    "# ANSWER\n"
   ]
  },
  {
   "cell_type": "markdown",
   "metadata": {},
   "source": [
    "To find association, we are going to use [mlxtend.frequent_patterns.apriori](https://rasbt.github.io/mlxtend/user_guide/frequent_patterns/apriori/)."
   ]
  },
  {
   "cell_type": "code",
   "execution_count": 78,
   "metadata": {},
   "outputs": [],
   "source": [
    "# frequent patterns\n",
    "from mlxtend.frequent_patterns import apriori"
   ]
  },
  {
   "cell_type": "markdown",
   "metadata": {},
   "source": [
    "**QUESTIONS**\n",
    "\n",
    "* Use apriori algorithm to find frequent patterns for each cluster\n",
    "* Then among these itemsets, find those that are not frequent for other clusters"
   ]
  },
  {
   "cell_type": "code",
   "execution_count": 79,
   "metadata": {},
   "outputs": [],
   "source": [
    "# ANSWER"
   ]
  },
  {
   "cell_type": "code",
   "execution_count": null,
   "metadata": {},
   "outputs": [],
   "source": []
  }
 ],
 "metadata": {
  "kernelspec": {
   "display_name": ".venv",
   "language": "python",
   "name": "python3"
  },
  "language_info": {
   "codemirror_mode": {
    "name": "ipython",
    "version": 3
   },
   "file_extension": ".py",
   "mimetype": "text/x-python",
   "name": "python",
   "nbconvert_exporter": "python",
   "pygments_lexer": "ipython3",
   "version": "3.11.0rc1"
  }
 },
 "nbformat": 4,
 "nbformat_minor": 2
}
